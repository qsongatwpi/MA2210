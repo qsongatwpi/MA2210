{
  "nbformat": 4,
  "nbformat_minor": 0,
  "metadata": {
    "colab": {
      "provenance": [],
      "authorship_tag": "ABX9TyO8ApxUqqqRck1jYPHpwSo+",
      "include_colab_link": true
    },
    "kernelspec": {
      "name": "python3",
      "display_name": "Python 3"
    },
    "language_info": {
      "name": "python"
    }
  },
  "cells": [
    {
      "cell_type": "markdown",
      "metadata": {
        "id": "view-in-github",
        "colab_type": "text"
      },
      "source": [
        "<a href=\"https://colab.research.google.com/github/songqsh/MA2210/blob/main/.src/bfs_discussion.ipynb\" target=\"_parent\"><img src=\"https://colab.research.google.com/assets/colab-badge.svg\" alt=\"Open In Colab\"/></a>"
      ]
    },
    {
      "cell_type": "code",
      "execution_count": 1,
      "metadata": {
        "id": "sQtxIMJTPpdR"
      },
      "outputs": [],
      "source": [
        "# import packages\n",
        "import numpy as np\n",
        "import numpy.linalg as la\n",
        "np.set_printoptions(suppress=True)\n",
        "import itertools"
      ]
    },
    {
      "cell_type": "code",
      "source": [
        "# input augmented form\n",
        "A = np.array([[1.,0,1,0, 0], [1.,3,0,1, 0], [2, 1, 0, 0, 1]])\n",
        "b = np.array([4, 15, 10])\n",
        "print(A, b)"
      ],
      "metadata": {
        "colab": {
          "base_uri": "https://localhost:8080/"
        },
        "id": "eJkmoQJmPr_y",
        "outputId": "4ce45a9c-563d-4c51-acd2-0b2cd9247440"
      },
      "execution_count": 2,
      "outputs": [
        {
          "output_type": "stream",
          "name": "stdout",
          "text": [
            "[[1. 0. 1. 0. 0.]\n",
            " [1. 3. 0. 1. 0.]\n",
            " [2. 1. 0. 0. 1.]] [ 4 15 10]\n"
          ]
        }
      ]
    },
    {
      "cell_type": "code",
      "source": [
        "# A function solving for bfs\n",
        "# inputs:\n",
        "#   list_of_bv: an index list of basic variables\n",
        "#   mat_A: 2d numpy array for matrix A\n",
        "#   vec_b: 1d numpy array with the length equal to row number of A\n",
        "# return:\n",
        "#   either basic solution or error message\n",
        "def bfs(list_of_bv, mat_A, vec_b):\n",
        "    try:\n",
        "        basic_solution = la.solve(mat_A[:, list_of_bv], vec_b)\n",
        "\n",
        "        if min(basic_solution) < 0:\n",
        "            raise (ValueError('Infeasible solution'))\n",
        "        return basic_solution\n",
        "\n",
        "    except la.LinAlgError as err:\n",
        "        return err\n",
        "\n",
        "    except ValueError as err:\n",
        "        return err"
      ],
      "metadata": {
        "id": "tEBO3BuWQOM9"
      },
      "execution_count": 3,
      "outputs": []
    },
    {
      "cell_type": "code",
      "source": [
        "bvs = itertools.combinations(range(5), 3)\n",
        "\n",
        "for bv1 in bvs:\n",
        "    print(f'checking bv {bv1}')\n",
        "    res1 = bfs(bv1, A, b)\n",
        "    print(f'--- {res1}')"
      ],
      "metadata": {
        "colab": {
          "base_uri": "https://localhost:8080/"
        },
        "id": "w6WLC-p2QRkg",
        "outputId": "0d1d7afb-2d88-4c9f-9351-65a446ce60c2"
      },
      "execution_count": 4,
      "outputs": [
        {
          "output_type": "stream",
          "name": "stdout",
          "text": [
            "checking bv (0, 1, 2)\n",
            "--- [3. 4. 1.]\n",
            "checking bv (0, 1, 3)\n",
            "--- [4. 2. 5.]\n",
            "checking bv (0, 1, 4)\n",
            "--- Infeasible solution\n",
            "checking bv (0, 2, 3)\n",
            "--- Infeasible solution\n",
            "checking bv (0, 2, 4)\n",
            "--- Infeasible solution\n",
            "checking bv (0, 3, 4)\n",
            "--- [ 4. 11.  2.]\n",
            "checking bv (1, 2, 3)\n",
            "--- Infeasible solution\n",
            "checking bv (1, 2, 4)\n",
            "--- [5. 4. 5.]\n",
            "checking bv (1, 3, 4)\n",
            "--- Singular matrix\n",
            "checking bv (2, 3, 4)\n",
            "--- [ 4. 15. 10.]\n"
          ]
        }
      ]
    },
    {
      "cell_type": "code",
      "source": [],
      "metadata": {
        "id": "HGxiaNsZQb8P"
      },
      "execution_count": null,
      "outputs": []
    }
  ]
}