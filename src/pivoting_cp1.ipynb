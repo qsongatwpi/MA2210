{
 "nbformat": 4,
 "nbformat_minor": 0,
 "metadata": {
  "colab": {
   "name": "pivotizing.ipynb",
   "provenance": [],
   "authorship_tag": "ABX9TyPX9DBwf+WtiuTzR/Fl44Cw",
   "include_colab_link": true
  },
  "kernelspec": {
   "name": "python3",
   "display_name": "Python 3"
  },
  "language_info": {
   "name": "python"
  }
 },
 "cells": [
  {
   "cell_type": "markdown",
   "source": [
    "# Pivoting"
   ],
   "metadata": {
    "collapsed": false,
    "pycharm": {
     "name": "#%% md\n"
    }
   }
  },
  {
   "cell_type": "code",
   "execution_count": 24,
   "outputs": [],
   "source": [
    "# import packages\n",
    "import numpy as np\n",
    "np.set_printoptions(suppress=True)"
   ],
   "metadata": {
    "collapsed": false,
    "pycharm": {
     "name": "#%%\n"
    }
   }
  },
  {
   "cell_type": "code",
   "metadata": {
    "id": "VbrYjHnkN5Vc"
   },
   "source": [
    "# pivoting with (i,j)\n",
    "def pivoting(A_mat, row_i, col_i):\n",
    "    try:\n",
    "        A_mat[row_i] = A_mat[row_i] / A_mat[row_i, col_i]  # scale to get one in (row_i,col_i)\n",
    "    except ZeroDivisionError as err:\n",
    "        return err\n",
    "    n_rows, _ = A_mat.shape\n",
    "    for k in range(n_rows):\n",
    "        if k == row_i:\n",
    "            continue  # skip i-row\n",
    "        A_mat[k] = A_mat[k] - A_mat[row_i] * A_mat[k, col_i]  # replacement to get zero\n",
    "    return 1"
   ],
   "execution_count": 31,
   "outputs": []
  },
  {
   "cell_type": "markdown",
   "source": [
    "## Ex.\n",
    "\n",
    "Solve the following linear system by pivoting:\n",
    "$$\n",
    "x_1 + 2 x_2 - x_3  = 4$$\n",
    "$$- x_1 - x_2 + 2x_3  = 1$$\n",
    "$$x_1 \\quad \\quad \\quad + x_3  = 6$$\n"
   ],
   "metadata": {
    "collapsed": false
   }
  },
  {
   "cell_type": "code",
   "metadata": {
    "id": "NaCR_vuiObrJ"
   },
   "source": [
    "#matrix input\n",
    "M = np.array([[1,2,-1,4.],[-1.,-1, 2,1], [1.,0,1, 6]])\n",
    "print(f'{M}')"
   ],
   "execution_count": 32,
   "outputs": [
    {
     "name": "stdout",
     "output_type": "stream",
     "text": [
      "[[ 1.  2. -1.  4.]\n",
      " [-1. -1.  2.  1.]\n",
      " [ 1.  0.  1.  6.]]\n"
     ]
    }
   ]
  },
  {
   "cell_type": "code",
   "metadata": {
    "colab": {
     "base_uri": "https://localhost:8080/"
    },
    "id": "a6l40btsPKTv",
    "outputId": "c6d9965c-e1cd-4b1d-ee28-156ea40e19dd"
   },
   "source": [
    "for i in range(3):\n",
    "    pivoting(M, i, i)\n",
    "    print(f'----\\n {M}')"
   ],
   "execution_count": 33,
   "outputs": [
    {
     "name": "stdout",
     "output_type": "stream",
     "text": [
      "----\n",
      " [[ 1.  2. -1.  4.]\n",
      " [ 0.  1.  1.  5.]\n",
      " [ 0. -2.  2.  2.]]\n",
      "----\n",
      " [[ 1.  0. -3. -6.]\n",
      " [ 0.  1.  1.  5.]\n",
      " [ 0.  0.  4. 12.]]\n",
      "----\n",
      " [[1. 0. 0. 3.]\n",
      " [0. 1. 0. 2.]\n",
      " [0. 0. 1. 3.]]\n"
     ]
    }
   ]
  },
  {
   "cell_type": "markdown",
   "metadata": {
    "id": "xzrC6UaSPZWf",
    "pycharm": {
     "name": "#%% md\n"
    }
   },
   "source": []
  },
  {
   "cell_type": "code",
   "execution_count": 34,
   "outputs": [
    {
     "name": "stdout",
     "output_type": "stream",
     "text": [
      "[[ 1.  2. -1.  4.]\n",
      " [-1. -1.  2.  1.]\n",
      " [ 0.  1.  1.  6.]]\n"
     ]
    }
   ],
   "source": [
    "#matrix input\n",
    "M = np.array([[1,2,-1,4.],[-1.,-1, 2,1], [0.,1,1, 6]])\n",
    "print(f'{M}')"
   ],
   "metadata": {
    "collapsed": false,
    "pycharm": {
     "name": "#%%\n"
    }
   }
  },
  {
   "cell_type": "code",
   "execution_count": 35,
   "outputs": [
    {
     "data": {
      "text/plain": "1"
     },
     "execution_count": 35,
     "metadata": {},
     "output_type": "execute_result"
    }
   ],
   "source": [
    "pivoting(M, 0, 0)\n",
    "pivoting(M, 1, 1)"
   ],
   "metadata": {
    "collapsed": false,
    "pycharm": {
     "name": "#%%\n"
    }
   }
  },
  {
   "cell_type": "code",
   "execution_count": 36,
   "outputs": [
    {
     "data": {
      "text/plain": "array([[ 1.,  0., -3., -6.],\n       [ 0.,  1.,  1.,  5.],\n       [ 0.,  0.,  0.,  1.]])"
     },
     "execution_count": 36,
     "metadata": {},
     "output_type": "execute_result"
    }
   ],
   "source": [
    "M"
   ],
   "metadata": {
    "collapsed": false,
    "pycharm": {
     "name": "#%%\n"
    }
   }
  },
  {
   "cell_type": "code",
   "execution_count": 37,
   "outputs": [
    {
     "name": "stderr",
     "output_type": "stream",
     "text": [
      "/Users/qsong/PycharmProjects/ib1/venv/lib/python3.7/site-packages/ipykernel_launcher.py:4: RuntimeWarning: divide by zero encountered in true_divide\n",
      "  after removing the cwd from sys.path.\n",
      "/Users/qsong/PycharmProjects/ib1/venv/lib/python3.7/site-packages/ipykernel_launcher.py:4: RuntimeWarning: invalid value encountered in true_divide\n",
      "  after removing the cwd from sys.path.\n"
     ]
    },
    {
     "data": {
      "text/plain": "1"
     },
     "execution_count": 37,
     "metadata": {},
     "output_type": "execute_result"
    }
   ],
   "source": [
    "pivoting(M, 2, 2)"
   ],
   "metadata": {
    "collapsed": false,
    "pycharm": {
     "name": "#%%\n"
    }
   }
  },
  {
   "cell_type": "code",
   "execution_count": 30,
   "outputs": [],
   "source": [],
   "metadata": {
    "collapsed": false,
    "pycharm": {
     "name": "#%%\n"
    }
   }
  }
 ]
}