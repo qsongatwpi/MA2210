{
  "nbformat": 4,
  "nbformat_minor": 0,
  "metadata": {
    "colab": {
      "name": "python_notebook.ipynb",
      "provenance": [],
      "authorship_tag": "ABX9TyNVJlJp8A2cTNI2LJ1kALiX",
      "include_colab_link": true
    },
    "kernelspec": {
      "name": "python3",
      "display_name": "Python 3"
    },
    "language_info": {
      "name": "python"
    }
  },
  "cells": [
    {
      "cell_type": "markdown",
      "metadata": {
        "id": "view-in-github",
        "colab_type": "text"
      },
      "source": [
        "<a href=\"https://colab.research.google.com/github/songqsh/MA2210/blob/main/src/python_notebook.ipynb\" target=\"_parent\"><img src=\"https://colab.research.google.com/assets/colab-badge.svg\" alt=\"Open In Colab\"/></a>"
      ]
    },
    {
      "cell_type": "markdown",
      "metadata": {
        "id": "630q1cho6UDz"
      },
      "source": [
        "## Python on Jupyter notebook - Colab\n",
        "\n",
        "Python on Jupyter notebook allows one to perform a great deal of data analysis and statistical validation. cell by cell in a interactive way. A good online platform is colab, powered by google. \n",
        "\n",
        "- open a new python3 notebook by visiting  https://colab.research.google.com/\n",
        "- As you can see, each cell can be chosen either code or text from its top menu.\n",
        "- A code cell will be evaluated when you press play, or when you press the shortcut, shift-enter. \n"
      ]
    },
    {
      "cell_type": "code",
      "metadata": {
        "colab": {
          "base_uri": "https://localhost:8080/"
        },
        "id": "2i54nuQy7HbX",
        "outputId": "d37d81d8-0f7b-4222-843e-41e6782feaea"
      },
      "source": [
        "# this is a code cell\n",
        "2 + 2 "
      ],
      "execution_count": 1,
      "outputs": [
        {
          "output_type": "execute_result",
          "data": {
            "text/plain": [
              "4"
            ]
          },
          "metadata": {
            "tags": []
          },
          "execution_count": 1
        }
      ]
    },
    {
      "cell_type": "markdown",
      "metadata": {
        "id": "6_jwnTS67W7f"
      },
      "source": [
        "- Ex: Add a code cell and perform $1+1$"
      ]
    },
    {
      "cell_type": "markdown",
      "metadata": {
        "id": "0YJSS56376aX"
      },
      "source": [
        "# Solving a linear system\n",
        "\n",
        "We consider to solve the following linear system:\n",
        "$$\n",
        "\\left \\{\n",
        "  \\begin{array}{ll}\n",
        "  2x_2 = 12\\\\\n",
        "  3x_1+2x_2 = 18\n",
        "  \\end{array}\n",
        "\\right.\n",
        "$$"
      ]
    },
    {
      "cell_type": "code",
      "metadata": {
        "id": "LxkL8bK375hG"
      },
      "source": [
        "# import packages\n",
        "import numpy as np\n",
        "import numpy.linalg as la\n",
        "np.set_printoptions(suppress=True)"
      ],
      "execution_count": 2,
      "outputs": []
    },
    {
      "cell_type": "code",
      "metadata": {
        "colab": {
          "base_uri": "https://localhost:8080/"
        },
        "id": "AATyHnBT9-M1",
        "outputId": "cf939460-9a11-4484-ba0f-163206cdf7ff"
      },
      "source": [
        "A = np.array([[0., 2.], [3., 2.]]) #coefficient matrix\n",
        "b = np.array([12., 18.]) #right hand side vector\n",
        "x = la.solve(A, b)\n",
        "print(x)"
      ],
      "execution_count": 3,
      "outputs": [
        {
          "output_type": "stream",
          "text": [
            "[2. 6.]\n"
          ],
          "name": "stdout"
        }
      ]
    },
    {
      "cell_type": "markdown",
      "metadata": {
        "id": "R4nCL2Nu-cjG"
      },
      "source": [
        "- Ex. Solve the following linear system:\n",
        "$$\n",
        "\\left \\{\n",
        "  \\begin{array}{ll}\n",
        "  7x_1 + 2x_2 = 28\\\\\n",
        "  2x_1 + 12x_2 = 24\n",
        "  \\end{array}\n",
        "\\right.\n",
        "$$"
      ]
    }
  ]
}