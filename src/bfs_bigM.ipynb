{
  "nbformat": 4,
  "nbformat_minor": 0,
  "metadata": {
    "colab": {
      "name": "bfs_bigM.ipynb",
      "provenance": [],
      "authorship_tag": "ABX9TyOHgLZp1gDfc5ew7cIHgGDC",
      "include_colab_link": true
    },
    "kernelspec": {
      "name": "python3",
      "display_name": "Python 3"
    },
    "language_info": {
      "name": "python"
    }
  },
  "cells": [
    {
      "cell_type": "markdown",
      "metadata": {
        "id": "view-in-github",
        "colab_type": "text"
      },
      "source": [
        "<a href=\"https://colab.research.google.com/github/songqsh/MA2210/blob/main/src/bfs_bigM.ipynb\" target=\"_parent\"><img src=\"https://colab.research.google.com/assets/colab-badge.svg\" alt=\"Open In Colab\"/></a>"
      ]
    },
    {
      "cell_type": "markdown",
      "metadata": {
        "id": "0YJSS56376aX"
      },
      "source": [
        "# BFS approach\n"
      ]
    },
    {
      "cell_type": "code",
      "metadata": {
        "id": "LxkL8bK375hG"
      },
      "source": [
        "# import packages\n",
        "import numpy as np\n",
        "import numpy.linalg as la\n",
        "np.set_printoptions(suppress=True)\n",
        "import itertools\n",
        "import pandas as pd\n",
        "import warnings\n",
        "#ignore by message\n",
        "warnings.filterwarnings(\"ignore\", message=\"divide by zero encountered in true_divide\")"
      ],
      "execution_count": 3,
      "outputs": []
    },
    {
      "cell_type": "code",
      "metadata": {
        "colab": {
          "base_uri": "https://localhost:8080/",
          "height": 159
        },
        "id": "OGE8Uu5pOhGo",
        "outputId": "faddc150-622d-4645-84b5-2b4e1a5b2ada"
      },
      "source": [
        "# input initial tableau\n",
        "M = 100000\n",
        "c = np.array([3,5,0., 0, -M])\n",
        "b = np.array([4., 12, 18])\n",
        "A = np.array([\n",
        "               [1, 0, 1, 0, 0], \n",
        "               [0, 2, 0, 1, 0],\n",
        "               [3, 2, 0, 0, 1]\n",
        "               ], dtype = float)\n",
        "m, n = A.shape\n",
        "m = m\n",
        "n = n\n",
        "print(f'{m} constraints and {n} variables')\n",
        "\n",
        "pd.DataFrame(A) # print matrix"
      ],
      "execution_count": 13,
      "outputs": [
        {
          "output_type": "stream",
          "text": [
            "3 constraints and 5 variables\n"
          ],
          "name": "stdout"
        },
        {
          "output_type": "execute_result",
          "data": {
            "text/html": [
              "<div>\n",
              "<style scoped>\n",
              "    .dataframe tbody tr th:only-of-type {\n",
              "        vertical-align: middle;\n",
              "    }\n",
              "\n",
              "    .dataframe tbody tr th {\n",
              "        vertical-align: top;\n",
              "    }\n",
              "\n",
              "    .dataframe thead th {\n",
              "        text-align: right;\n",
              "    }\n",
              "</style>\n",
              "<table border=\"1\" class=\"dataframe\">\n",
              "  <thead>\n",
              "    <tr style=\"text-align: right;\">\n",
              "      <th></th>\n",
              "      <th>0</th>\n",
              "      <th>1</th>\n",
              "      <th>2</th>\n",
              "      <th>3</th>\n",
              "      <th>4</th>\n",
              "    </tr>\n",
              "  </thead>\n",
              "  <tbody>\n",
              "    <tr>\n",
              "      <th>0</th>\n",
              "      <td>1.0</td>\n",
              "      <td>0.0</td>\n",
              "      <td>1.0</td>\n",
              "      <td>0.0</td>\n",
              "      <td>0.0</td>\n",
              "    </tr>\n",
              "    <tr>\n",
              "      <th>1</th>\n",
              "      <td>0.0</td>\n",
              "      <td>2.0</td>\n",
              "      <td>0.0</td>\n",
              "      <td>1.0</td>\n",
              "      <td>0.0</td>\n",
              "    </tr>\n",
              "    <tr>\n",
              "      <th>2</th>\n",
              "      <td>3.0</td>\n",
              "      <td>2.0</td>\n",
              "      <td>0.0</td>\n",
              "      <td>0.0</td>\n",
              "      <td>1.0</td>\n",
              "    </tr>\n",
              "  </tbody>\n",
              "</table>\n",
              "</div>"
            ],
            "text/plain": [
              "     0    1    2    3    4\n",
              "0  1.0  0.0  1.0  0.0  0.0\n",
              "1  0.0  2.0  0.0  1.0  0.0\n",
              "2  3.0  2.0  0.0  0.0  1.0"
            ]
          },
          "metadata": {
            "tags": []
          },
          "execution_count": 13
        }
      ]
    },
    {
      "cell_type": "code",
      "metadata": {
        "id": "ZFXKb_ssUl8T"
      },
      "source": [
        "\n",
        "def bfs(bv):\n",
        "  print(f'bv is {bv}')\n",
        "  try:\n",
        "    bs = la.solve(A[:,bv], b)\n",
        "    print(f'...bs is {bs}')\n",
        "    \n",
        "    if min(bs) >= 0:\n",
        "      z=0\n",
        "      for i in range(m):\n",
        "        z = z + c[bv[i]]*bs[i]\n",
        "      print(f'...feasible and  and z-value is {z}')\n",
        "      \n",
        "  except:\n",
        "    print(f'...it is singular')\n",
        "\n"
      ],
      "execution_count": 26,
      "outputs": []
    },
    {
      "cell_type": "code",
      "metadata": {
        "colab": {
          "base_uri": "https://localhost:8080/"
        },
        "id": "vHToLRHqVNe1",
        "outputId": "448a76d1-380b-476c-a6f5-bcb1e7659a58"
      },
      "source": [
        "bv_list = itertools.combinations(list(range(n)), m)\n",
        "for bv in bv_list:\n",
        "  bfs(bv)\n"
      ],
      "execution_count": 27,
      "outputs": [
        {
          "output_type": "stream",
          "text": [
            "bv is (0, 1, 2)\n",
            "...bs is [2. 6. 2.]\n",
            "...feasible and  and z-value is 36.0\n",
            "bv is (0, 1, 3)\n",
            "...bs is [4. 3. 6.]\n",
            "...feasible and  and z-value is 27.0\n",
            "bv is (0, 1, 4)\n",
            "...bs is [ 4.  6. -6.]\n",
            "bv is (0, 2, 3)\n",
            "...bs is [ 6. -2. 12.]\n",
            "bv is (0, 2, 4)\n",
            "...it is singular\n",
            "bv is (0, 3, 4)\n",
            "...bs is [ 4. 12.  6.]\n",
            "...feasible and  and z-value is -599987.9999999999\n",
            "bv is (1, 2, 3)\n",
            "...bs is [ 9.  4. -6.]\n",
            "bv is (1, 2, 4)\n",
            "...bs is [6. 4. 6.]\n",
            "...feasible and  and z-value is -599970.0\n",
            "bv is (1, 3, 4)\n",
            "...it is singular\n",
            "bv is (2, 3, 4)\n",
            "...bs is [ 4. 12. 18.]\n",
            "...feasible and  and z-value is -1800000.0\n"
          ],
          "name": "stdout"
        }
      ]
    },
    {
      "cell_type": "code",
      "metadata": {
        "id": "USfXwJizZW9a"
      },
      "source": [
        ""
      ],
      "execution_count": null,
      "outputs": []
    }
  ]
}