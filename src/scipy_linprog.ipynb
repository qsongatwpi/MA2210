{
 "cells": [
  {
   "cell_type": "markdown",
   "metadata": {
    "collapsed": true,
    "pycharm": {
     "name": "#%% md\n"
    }
   },
   "source": [
    "# Linear program with Scipy\n",
    "\n",
    "We will solve ex-LL with linear programing package from Scipy, see [here](https://docs.scipy.org/doc/scipy-0.18.1/reference/generated/scipy.optimize.linprog.html) for the documentation."
   ]
  },
  {
   "cell_type": "markdown",
   "source": [
    "LP from ex-LL is as below:\n",
    "$$\n",
    "\\begin{array}\n",
    "{llll}\n",
    "\\max z = & 4 x_1 + 3 x_2 & \\\\\n",
    "s.t.\\\\\n",
    "& x_1 + x_2 \\le 40 \\\\\n",
    "&2x_1 + x_2 \\le 60 \\\\\n",
    "& x_1, x_2 \\ge 0\n",
    "\\end{array}\n",
    "$$"
   ],
   "metadata": {
    "collapsed": false,
    "pycharm": {
     "name": "#%% md\n"
    }
   }
  },
  {
   "cell_type": "markdown",
   "source": [
    "## Using standard form"
   ],
   "metadata": {
    "collapsed": false,
    "pycharm": {
     "name": "#%% md\n"
    }
   }
  },
  {
   "cell_type": "code",
   "execution_count": 11,
   "outputs": [],
   "source": [
    "# set up standard form\n",
    "c = [-4, -3] # max problem to min problem needs to flip the sign\n",
    "A = [[1, 1], [2, 1]]\n",
    "b = [40, 60]"
   ],
   "metadata": {
    "collapsed": false,
    "pycharm": {
     "name": "#%%\n"
    }
   }
  },
  {
   "cell_type": "code",
   "execution_count": 12,
   "outputs": [
    {
     "name": "stdout",
     "output_type": "stream",
     "text": [
      "     con: array([], dtype=float64)\n",
      "     fun: -139.99999999849638\n",
      " message: 'Optimization terminated successfully.'\n",
      "     nit: 5\n",
      "   slack: array([4.36656933e-10, 6.30315355e-10])\n",
      "  status: 0\n",
      " success: True\n",
      "       x: array([20., 20.])\n"
     ]
    }
   ],
   "source": [
    "from scipy.optimize import linprog\n",
    "res = linprog(c, A_ub=A, b_ub=b)\n",
    "print(res)"
   ],
   "metadata": {
    "collapsed": false,
    "pycharm": {
     "name": "#%%\n"
    }
   }
  },
  {
   "cell_type": "markdown",
   "source": [
    "Using augmented form"
   ],
   "metadata": {
    "collapsed": false,
    "pycharm": {
     "name": "#%% md\n"
    }
   }
  },
  {
   "cell_type": "code",
   "execution_count": 13,
   "outputs": [],
   "source": [
    "# set up augmented form\n",
    "c = [-4, -3, 0, 0] # max problem to min problem needs to flip the sign\n",
    "A = [[1, 1, 1, 0], [2, 1, 0, 1]]\n",
    "b = [40, 60]"
   ],
   "metadata": {
    "collapsed": false,
    "pycharm": {
     "name": "#%%\n"
    }
   }
  },
  {
   "cell_type": "code",
   "execution_count": 14,
   "outputs": [
    {
     "name": "stdout",
     "output_type": "stream",
     "text": [
      "     con: array([4.15994350e-10, 6.29654551e-10])\n",
      "     fun: -139.99999999849638\n",
      " message: 'Optimization terminated successfully.'\n",
      "     nit: 5\n",
      "   slack: array([], dtype=float64)\n",
      "  status: 0\n",
      " success: True\n",
      "       x: array([2.00000000e+01, 2.00000000e+01, 2.06705700e-11, 6.59180445e-13])\n"
     ]
    }
   ],
   "source": [
    "from scipy.optimize import linprog\n",
    "res = linprog(c, A_eq=A, b_eq=b)\n",
    "print(res)"
   ],
   "metadata": {
    "collapsed": false,
    "pycharm": {
     "name": "#%%\n"
    }
   }
  },
  {
   "cell_type": "markdown",
   "source": [
    "__Ex__. Solve the following diet problem using standard form and augmented form repecitively.\n",
    "$$\n",
    "\\begin{array}\n",
    "{lll}\n",
    "\\min z = & 50 x_1 + 20 x_2 + 30 x_3 + 80 x_4 \\\\\n",
    "s.t.\\\\\n",
    "& 400 x_1 + 200x_2 + 150x_3 + 500 x_4 & \\ge 500 \\\\\n",
    "& 3 x_1 \\quad+ 2x_2 \\quad\\quad\\quad\\quad & \\ge 6 \\\\\n",
    "& 2x_1 \\quad+ 2x_2 \\quad+ 4x_3 \\quad+ 4x_4 & \\ge 10\\\\\n",
    "& 2x_1 \\quad+ 4x_2 \\quad+ x_3 \\quad+ 5x_4 & \\ge 8\\\\\n",
    "& x_i\\ge 0, \\quad i = 1,2, 3, 4.\n",
    "\\end{array}\n",
    "$$"
   ],
   "metadata": {
    "collapsed": false,
    "pycharm": {
     "name": "#%% md\n"
    }
   }
  },
  {
   "cell_type": "code",
   "execution_count": null,
   "outputs": [],
   "source": [],
   "metadata": {
    "collapsed": false,
    "pycharm": {
     "name": "#%%\n"
    }
   }
  }
 ],
 "metadata": {
  "kernelspec": {
   "display_name": "Python 3",
   "language": "python",
   "name": "python3"
  },
  "language_info": {
   "codemirror_mode": {
    "name": "ipython",
    "version": 2
   },
   "file_extension": ".py",
   "mimetype": "text/x-python",
   "name": "python",
   "nbconvert_exporter": "python",
   "pygments_lexer": "ipython2",
   "version": "2.7.6"
  }
 },
 "nbformat": 4,
 "nbformat_minor": 0
}