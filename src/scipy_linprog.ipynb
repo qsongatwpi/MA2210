{
  "cells": [
    {
      "cell_type": "markdown",
      "metadata": {
        "collapsed": true,
        "id": "vq-0gdIIGdpT",
        "pycharm": {
          "name": "#%% md\n"
        }
      },
      "source": [
        "# Linear program with Scipy\n",
        "\n",
        "We will solve ex-LL with linear programing package from Scipy, see [here](https://docs.scipy.org/doc/scipy-0.18.1/reference/generated/scipy.optimize.linprog.html) for the documentation."
      ]
    },
    {
      "cell_type": "markdown",
      "metadata": {
        "collapsed": false,
        "id": "zBnICD9EGdpU",
        "pycharm": {
          "name": "#%% md\n"
        }
      },
      "source": [
        "LP from ex-LL is as below:\n",
        "$$\n",
        "\\begin{array}\n",
        "{ll}\n",
        "\\max z = & 4 x_1 + 3 x_2 & \\\\\n",
        "s.t.\\\\\n",
        "& x_1 + x_2 \\le 40 \\\\\n",
        "&2x_1 + x_2 \\le 60 \\\\\n",
        "& x_1, x_2 \\ge 0\n",
        "\\end{array}\n",
        "$$"
      ]
    },
    {
      "cell_type": "code",
      "execution_count": 1,
      "metadata": {
        "id": "WMzprfsHGq3A"
      },
      "outputs": [],
      "source": [
        "from scipy.optimize import linprog"
      ]
    },
    {
      "cell_type": "markdown",
      "metadata": {
        "collapsed": false,
        "id": "nWu_c5d3GdpV",
        "pycharm": {
          "name": "#%% md\n"
        }
      },
      "source": [
        "## Using original form with inequlity constraints"
      ]
    },
    {
      "cell_type": "code",
      "execution_count": 2,
      "metadata": {
        "colab": {
          "base_uri": "https://localhost:8080/"
        },
        "id": "5unBOGgzGdpV",
        "outputId": "62cdbb38-3fd1-4903-da86-0413f37ff193",
        "pycharm": {
          "name": "#%%\n"
        }
      },
      "outputs": [
        {
          "name": "stdout",
          "output_type": "stream",
          "text": [
            "        message: Optimization terminated successfully. (HiGHS Status 7: Optimal)\n",
            "        success: True\n",
            "         status: 0\n",
            "            fun: -140.0\n",
            "              x: [ 2.000e+01  2.000e+01]\n",
            "            nit: 2\n",
            "          lower:  residual: [ 2.000e+01  2.000e+01]\n",
            "                 marginals: [ 0.000e+00  0.000e+00]\n",
            "          upper:  residual: [       inf        inf]\n",
            "                 marginals: [ 0.000e+00  0.000e+00]\n",
            "          eqlin:  residual: []\n",
            "                 marginals: []\n",
            "        ineqlin:  residual: [ 0.000e+00  0.000e+00]\n",
            "                 marginals: [-2.000e+00 -1.000e+00]\n",
            " mip_node_count: 0\n",
            " mip_dual_bound: 0.0\n",
            "        mip_gap: 0.0\n"
          ]
        }
      ],
      "source": [
        "# set up\n",
        "c = [-4, -3] # max problem to min problem needs to flip the sign\n",
        "A = [[1, 1], [2, 1]]\n",
        "b = [40, 60]\n",
        "\n",
        "res = linprog(c, A_ub=A, b_ub=b)\n",
        "print(res)"
      ]
    },
    {
      "cell_type": "markdown",
      "metadata": {
        "collapsed": false,
        "id": "JnI4bbY-GdpW"
      },
      "source": [
        "Using equality constraints from the augmented form"
      ]
    },
    {
      "cell_type": "code",
      "execution_count": 5,
      "metadata": {
        "id": "EmJ3yyJsGdpW",
        "pycharm": {
          "name": "#%%\n"
        }
      },
      "outputs": [],
      "source": [
        "# set up augmented form\n",
        "c = [-4, -3, 0, 0] # max problem to min problem needs to flip the sign\n",
        "A = [[1, 1, 1, 0], [2, 1, 0, 1]]\n",
        "b = [40, 60]"
      ]
    },
    {
      "cell_type": "code",
      "execution_count": 6,
      "metadata": {
        "colab": {
          "base_uri": "https://localhost:8080/"
        },
        "id": "4CUOxdvFGdpW",
        "outputId": "5211f012-9a29-4c86-a9ed-b51b1511ec77",
        "pycharm": {
          "name": "#%%\n"
        }
      },
      "outputs": [
        {
          "name": "stdout",
          "output_type": "stream",
          "text": [
            "        message: Optimization terminated successfully. (HiGHS Status 7: Optimal)\n",
            "        success: True\n",
            "         status: 0\n",
            "            fun: -140.0\n",
            "              x: [ 2.000e+01  2.000e+01  0.000e+00  0.000e+00]\n",
            "            nit: 2\n",
            "          lower:  residual: [ 2.000e+01  2.000e+01  0.000e+00  0.000e+00]\n",
            "                 marginals: [ 0.000e+00  0.000e+00  2.000e+00  1.000e+00]\n",
            "          upper:  residual: [       inf        inf        inf        inf]\n",
            "                 marginals: [ 0.000e+00  0.000e+00  0.000e+00  0.000e+00]\n",
            "          eqlin:  residual: [ 0.000e+00  0.000e+00]\n",
            "                 marginals: [-2.000e+00 -1.000e+00]\n",
            "        ineqlin:  residual: []\n",
            "                 marginals: []\n",
            " mip_node_count: 0\n",
            " mip_dual_bound: 0.0\n",
            "        mip_gap: 0.0\n"
          ]
        }
      ],
      "source": [
        "res = linprog(c, A_eq=A, b_eq=b)\n",
        "print(res)"
      ]
    },
    {
      "cell_type": "markdown",
      "metadata": {
        "collapsed": false,
        "id": "Qi_8iMyMGdpW",
        "pycharm": {
          "name": "#%% md\n"
        }
      },
      "source": [
        "__Ex__. Solve the following diet problem using standard form and augmented form respectively.\n",
        "$$\n",
        "\\begin{array}\n",
        "{lll}\n",
        "\\min z = & 50 x_1 + 20 x_2 + 30 x_3 + 80 x_4 \\\\\n",
        "s.t.\\\\\n",
        "& 400 x_1 + 200x_2 + 150x_3 + 500 x_4 & \\ge 500 \\\\\n",
        "& 3 x_1 \\quad+ 2x_2 \\quad\\quad\\quad\\quad & \\ge 6 \\\\\n",
        "& 2x_1 \\quad+ 2x_2 \\quad+ 4x_3 \\quad+ 4x_4 & \\ge 10\\\\\n",
        "& 2x_1 \\quad+ 4x_2 \\quad+ x_3 \\quad+ 5x_4 & \\ge 8\\\\\n",
        "& x_i\\ge 0, \\quad i = 1,2, 3, 4.\n",
        "\\end{array}\n",
        "$$"
      ]
    },
    {
      "cell_type": "code",
      "execution_count": null,
      "metadata": {
        "id": "GLXrGLjlGdpX",
        "pycharm": {
          "name": "#%%\n"
        }
      },
      "outputs": [],
      "source": []
    }
  ],
  "metadata": {
    "colab": {
      "provenance": []
    },
    "kernelspec": {
      "display_name": "Python 3",
      "language": "python",
      "name": "python3"
    },
    "language_info": {
      "codemirror_mode": {
        "name": "ipython",
        "version": 2
      },
      "file_extension": ".py",
      "mimetype": "text/x-python",
      "name": "python",
      "nbconvert_exporter": "python",
      "pygments_lexer": "ipython2",
      "version": "3.11.7"
    }
  },
  "nbformat": 4,
  "nbformat_minor": 0
}
