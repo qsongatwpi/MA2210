{
  "cells": [
    {
      "cell_type": "markdown",
      "metadata": {
        "collapsed": true,
        "pycharm": {
          "name": "#%% md\n"
        },
        "id": "vq-0gdIIGdpT"
      },
      "source": [
        "# Linear program with Scipy\n",
        "\n",
        "We will solve ex-LL with linear programing package from Scipy, see [here](https://docs.scipy.org/doc/scipy-0.18.1/reference/generated/scipy.optimize.linprog.html) for the documentation."
      ]
    },
    {
      "cell_type": "markdown",
      "source": [
        "LP from ex-LL is as below:\n",
        "$$\n",
        "\\begin{array}\n",
        "{ll}\n",
        "\\max z = & 4 x_1 + 3 x_2 & \\\\\n",
        "s.t.\\\\\n",
        "& x_1 + x_2 \\le 40 \\\\\n",
        "&2x_1 + x_2 \\le 60 \\\\\n",
        "& x_1, x_2 \\ge 0\n",
        "\\end{array}\n",
        "$$"
      ],
      "metadata": {
        "collapsed": false,
        "pycharm": {
          "name": "#%% md\n"
        },
        "id": "zBnICD9EGdpU"
      }
    },
    {
      "cell_type": "code",
      "source": [
        "from scipy.optimize import linprog"
      ],
      "metadata": {
        "id": "WMzprfsHGq3A"
      },
      "execution_count": 1,
      "outputs": []
    },
    {
      "cell_type": "markdown",
      "source": [
        "## Using original form with inequlity constraints"
      ],
      "metadata": {
        "collapsed": false,
        "pycharm": {
          "name": "#%% md\n"
        },
        "id": "nWu_c5d3GdpV"
      }
    },
    {
      "cell_type": "code",
      "execution_count": 2,
      "outputs": [
        {
          "output_type": "stream",
          "name": "stdout",
          "text": [
            "        message: Optimization terminated successfully. (HiGHS Status 7: Optimal)\n",
            "        success: True\n",
            "         status: 0\n",
            "            fun: -140.0\n",
            "              x: [ 2.000e+01  2.000e+01]\n",
            "            nit: 2\n",
            "          lower:  residual: [ 2.000e+01  2.000e+01]\n",
            "                 marginals: [ 0.000e+00  0.000e+00]\n",
            "          upper:  residual: [       inf        inf]\n",
            "                 marginals: [ 0.000e+00  0.000e+00]\n",
            "          eqlin:  residual: []\n",
            "                 marginals: []\n",
            "        ineqlin:  residual: [ 0.000e+00  0.000e+00]\n",
            "                 marginals: [-2.000e+00 -1.000e+00]\n",
            " mip_node_count: 0\n",
            " mip_dual_bound: 0.0\n",
            "        mip_gap: 0.0\n"
          ]
        }
      ],
      "source": [
        "# set up\n",
        "c = [-4, -3] # max problem to min problem needs to flip the sign\n",
        "A = [[1, 1], [2, 1]]\n",
        "b = [40, 60]\n",
        "\n",
        "res = linprog(c, A_ub=A, b_ub=b)\n",
        "print(res)"
      ],
      "metadata": {
        "pycharm": {
          "name": "#%%\n"
        },
        "id": "5unBOGgzGdpV",
        "outputId": "62cdbb38-3fd1-4903-da86-0413f37ff193",
        "colab": {
          "base_uri": "https://localhost:8080/"
        }
      }
    },
    {
      "cell_type": "markdown",
      "source": [
        "Using equality constraints from the augmented form"
      ],
      "metadata": {
        "collapsed": false,
        "id": "JnI4bbY-GdpW"
      }
    },
    {
      "cell_type": "code",
      "execution_count": 5,
      "outputs": [],
      "source": [
        "# set up augmented form\n",
        "c = [-4, -3, 0, 0] # max problem to min problem needs to flip the sign\n",
        "A = [[1, 1, 1, 0], [2, 1, 0, 1]]\n",
        "b = [40, 60]"
      ],
      "metadata": {
        "pycharm": {
          "name": "#%%\n"
        },
        "id": "EmJ3yyJsGdpW"
      }
    },
    {
      "cell_type": "code",
      "execution_count": 6,
      "outputs": [
        {
          "output_type": "stream",
          "name": "stdout",
          "text": [
            "        message: Optimization terminated successfully. (HiGHS Status 7: Optimal)\n",
            "        success: True\n",
            "         status: 0\n",
            "            fun: -140.0\n",
            "              x: [ 2.000e+01  2.000e+01  0.000e+00  0.000e+00]\n",
            "            nit: 2\n",
            "          lower:  residual: [ 2.000e+01  2.000e+01  0.000e+00  0.000e+00]\n",
            "                 marginals: [ 0.000e+00  0.000e+00  2.000e+00  1.000e+00]\n",
            "          upper:  residual: [       inf        inf        inf        inf]\n",
            "                 marginals: [ 0.000e+00  0.000e+00  0.000e+00  0.000e+00]\n",
            "          eqlin:  residual: [ 0.000e+00  0.000e+00]\n",
            "                 marginals: [-2.000e+00 -1.000e+00]\n",
            "        ineqlin:  residual: []\n",
            "                 marginals: []\n",
            " mip_node_count: 0\n",
            " mip_dual_bound: 0.0\n",
            "        mip_gap: 0.0\n"
          ]
        }
      ],
      "source": [
        "res = linprog(c, A_eq=A, b_eq=b)\n",
        "print(res)"
      ],
      "metadata": {
        "pycharm": {
          "name": "#%%\n"
        },
        "id": "4CUOxdvFGdpW",
        "outputId": "5211f012-9a29-4c86-a9ed-b51b1511ec77",
        "colab": {
          "base_uri": "https://localhost:8080/"
        }
      }
    },
    {
      "cell_type": "markdown",
      "source": [
        "__Ex__. Solve the following diet problem using standard form and augmented form respectively.\n",
        "$$\n",
        "\\begin{array}\n",
        "{lll}\n",
        "\\min z = & 50 x_1 + 20 x_2 + 30 x_3 + 80 x_4 \\\\\n",
        "s.t.\\\\\n",
        "& 400 x_1 + 200x_2 + 150x_3 + 500 x_4 & \\ge 500 \\\\\n",
        "& 3 x_1 \\quad+ 2x_2 \\quad\\quad\\quad\\quad & \\ge 6 \\\\\n",
        "& 2x_1 \\quad+ 2x_2 \\quad+ 4x_3 \\quad+ 4x_4 & \\ge 10\\\\\n",
        "& 2x_1 \\quad+ 4x_2 \\quad+ x_3 \\quad+ 5x_4 & \\ge 8\\\\\n",
        "& x_i\\ge 0, \\quad i = 1,2, 3, 4.\n",
        "\\end{array}\n",
        "$$"
      ],
      "metadata": {
        "collapsed": false,
        "pycharm": {
          "name": "#%% md\n"
        },
        "id": "Qi_8iMyMGdpW"
      }
    },
    {
      "cell_type": "code",
      "execution_count": null,
      "outputs": [],
      "source": [],
      "metadata": {
        "pycharm": {
          "name": "#%%\n"
        },
        "id": "GLXrGLjlGdpX"
      }
    }
  ],
  "metadata": {
    "kernelspec": {
      "display_name": "Python 3",
      "language": "python",
      "name": "python3"
    },
    "language_info": {
      "codemirror_mode": {
        "name": "ipython",
        "version": 2
      },
      "file_extension": ".py",
      "mimetype": "text/x-python",
      "name": "python",
      "nbconvert_exporter": "python",
      "pygments_lexer": "ipython2",
      "version": "2.7.6"
    },
    "colab": {
      "provenance": []
    }
  },
  "nbformat": 4,
  "nbformat_minor": 0
}