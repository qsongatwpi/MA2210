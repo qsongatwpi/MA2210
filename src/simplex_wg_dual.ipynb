{
  "nbformat": 4,
  "nbformat_minor": 0,
  "metadata": {
    "colab": {
      "name": "Copy of Simplex.ipynb",
      "provenance": [],
      "authorship_tag": "ABX9TyP6YNeSrWJpRSuX4iTfv03L",
      "include_colab_link": true
    },
    "kernelspec": {
      "name": "python3",
      "display_name": "Python 3"
    }
  },
  "cells": [
    {
      "cell_type": "markdown",
      "metadata": {
        "id": "view-in-github",
        "colab_type": "text"
      },
      "source": [
        "<a href=\"https://colab.research.google.com/github/songqsh/MA2210/blob/main/src/simplex_wg_dual.ipynb\" target=\"_parent\"><img src=\"https://colab.research.google.com/assets/colab-badge.svg\" alt=\"Open In Colab\"/></a>"
      ]
    },
    {
      "cell_type": "markdown",
      "metadata": {
        "id": "00ZyRRxarrBi"
      },
      "source": [
        "# Simplex method for the WG-dual\n",
        "\n",
        "We are going to run simplex tableau method for the dual of the example - WG:\n",
        "$$\\min w = 4 y_1  + 12 y_2 + 18 y_3$$\n",
        "s.t.\n",
        "$$\\begin{array}{lll}\n",
        "y_1 & & + 3y_3 & \\ge 3 \\\\\n",
        "& 2y_2 &+2y_3 & \\ge 5\n",
        "\\end{array}\n",
        "$$\n",
        "for $y_i\\ge 0$."
      ]
    },
    {
      "cell_type": "code",
      "metadata": {
        "id": "HdIczcDireLv"
      },
      "source": [
        "# import package\n",
        "import numpy as np\n",
        "import numpy.linalg as la\n",
        "float_formatter = \"{:.2f}\".format\n",
        "np.set_printoptions(formatter={'float_kind':float_formatter})"
      ],
      "execution_count": 1,
      "outputs": []
    },
    {
      "cell_type": "markdown",
      "metadata": {
        "id": "c2QmGEHdttx0"
      },
      "source": [
        "## Matrix in numpy"
      ]
    },
    {
      "cell_type": "code",
      "metadata": {
        "colab": {
          "base_uri": "https://localhost:8080/"
        },
        "id": "hM68Z6gnr17k",
        "outputId": "cc9ccdf5-2218-4c1a-ec03-512492b8fea5"
      },
      "source": [
        "# input augmented matrix with big M\n",
        "M = 100.0\n",
        "\n",
        "AM = np.array([\n",
        "               [-1, 4, 12, 18, 0, M, 0, M, 0], \n",
        "               [0, 1, 0, 3, -1, 1, 0, 0, 3], \n",
        "               [0, 0, 2, 2, 0, 0, -1, 1, 5]\n",
        "               ], dtype = float)\n",
        "print(AM) # print matrix"
      ],
      "execution_count": 2,
      "outputs": [
        {
          "output_type": "stream",
          "text": [
            "[[-1.00 4.00 12.00 18.00 0.00 100.00 0.00 100.00 0.00]\n",
            " [0.00 1.00 0.00 3.00 -1.00 1.00 0.00 0.00 3.00]\n",
            " [0.00 0.00 2.00 2.00 0.00 0.00 -1.00 1.00 5.00]]\n"
          ],
          "name": "stdout"
        }
      ]
    },
    {
      "cell_type": "markdown",
      "metadata": {
        "id": "qPGpUZT94CSW"
      },
      "source": [
        "## Pivotizing\n",
        "\n",
        "Pivotizing with $(i,j)$-entry means converting the matrix by multiple EROS so that the resulting matrix has all zeros in $j$-column, but one in $(i,j)$-entry. This is the key step in updating basic feasible solution."
      ]
    },
    {
      "cell_type": "code",
      "metadata": {
        "id": "QOOCy0MY4kHm"
      },
      "source": [
        "#pivotize with (i,j)\n",
        "def pivot(A, i, j):\n",
        "  A[i] = A[i]/A[i,j] #scale to get one in (i,j)\n",
        "  n_rows, _ = A.shape\n",
        "  for k in range(n_rows):\n",
        "    if k==i:\n",
        "      continue # skip i-row\n",
        "    A[k] = A[k] - A[i]*A[k,j] # replacement to get zero\n",
        "    "
      ],
      "execution_count": 3,
      "outputs": []
    },
    {
      "cell_type": "markdown",
      "metadata": {
        "id": "o2p2m-mct1ZO"
      },
      "source": [
        "## Simplex tableau"
      ]
    },
    {
      "cell_type": "code",
      "metadata": {
        "colab": {
          "base_uri": "https://localhost:8080/"
        },
        "id": "pwnoP1xKtbbo",
        "outputId": "ef7436ef-5009-48bb-ee5a-15d80b2d1d7c"
      },
      "source": [
        "AM # print original augmented matrix"
      ],
      "execution_count": 4,
      "outputs": [
        {
          "output_type": "execute_result",
          "data": {
            "text/plain": [
              "array([[-1.00, 4.00, 12.00, 18.00, 0.00, 100.00, 0.00, 100.00, 0.00],\n",
              "       [0.00, 1.00, 0.00, 3.00, -1.00, 1.00, 0.00, 0.00, 3.00],\n",
              "       [0.00, 0.00, 2.00, 2.00, 0.00, 0.00, -1.00, 1.00, 5.00]])"
            ]
          },
          "metadata": {
            "tags": []
          },
          "execution_count": 4
        }
      ]
    },
    {
      "cell_type": "code",
      "metadata": {
        "colab": {
          "base_uri": "https://localhost:8080/"
        },
        "id": "fapBLmPO9bCG",
        "outputId": "22c8d0d2-0483-467e-89ce-5f955f834eec"
      },
      "source": [
        "pivot(AM, 1, 5)\n",
        "AM # print"
      ],
      "execution_count": 5,
      "outputs": [
        {
          "output_type": "execute_result",
          "data": {
            "text/plain": [
              "array([[-1.00, -96.00, 12.00, -282.00, 100.00, 0.00, 0.00, 100.00,\n",
              "        -300.00],\n",
              "       [0.00, 1.00, 0.00, 3.00, -1.00, 1.00, 0.00, 0.00, 3.00],\n",
              "       [0.00, 0.00, 2.00, 2.00, 0.00, 0.00, -1.00, 1.00, 5.00]])"
            ]
          },
          "metadata": {
            "tags": []
          },
          "execution_count": 5
        }
      ]
    },
    {
      "cell_type": "code",
      "metadata": {
        "colab": {
          "base_uri": "https://localhost:8080/"
        },
        "id": "HtsVnwu-9bFv",
        "outputId": "eaa892e7-1a6e-4cac-f08d-3fe9327afe5b"
      },
      "source": [
        "pivot(AM, 2, 7)\n",
        "AM #print"
      ],
      "execution_count": 6,
      "outputs": [
        {
          "output_type": "execute_result",
          "data": {
            "text/plain": [
              "array([[-1.00, -96.00, -188.00, -482.00, 100.00, 0.00, 100.00, 0.00,\n",
              "        -800.00],\n",
              "       [0.00, 1.00, 0.00, 3.00, -1.00, 1.00, 0.00, 0.00, 3.00],\n",
              "       [0.00, 0.00, 2.00, 2.00, 0.00, 0.00, -1.00, 1.00, 5.00]])"
            ]
          },
          "metadata": {
            "tags": []
          },
          "execution_count": 6
        }
      ]
    },
    {
      "cell_type": "code",
      "metadata": {
        "colab": {
          "base_uri": "https://localhost:8080/"
        },
        "id": "7uH6DQrHLzsO",
        "outputId": "a83e310b-6a61-496b-fa23-df1a8b8008c6"
      },
      "source": [
        "pivot(AM, 1, 3)\n",
        "AM"
      ],
      "execution_count": 7,
      "outputs": [
        {
          "output_type": "execute_result",
          "data": {
            "text/plain": [
              "array([[-1.00, 64.67, -188.00, 0.00, -60.67, 160.67, 100.00, 0.00,\n",
              "        -318.00],\n",
              "       [0.00, 0.33, 0.00, 1.00, -0.33, 0.33, 0.00, 0.00, 1.00],\n",
              "       [0.00, -0.67, 2.00, 0.00, 0.67, -0.67, -1.00, 1.00, 3.00]])"
            ]
          },
          "metadata": {
            "tags": []
          },
          "execution_count": 7
        }
      ]
    },
    {
      "cell_type": "code",
      "metadata": {
        "colab": {
          "base_uri": "https://localhost:8080/"
        },
        "id": "oHTGgyZALz7o",
        "outputId": "67e6a474-3354-410b-b7af-faecc906ddb6"
      },
      "source": [
        "pivot(AM, 2,2)\n",
        "AM"
      ],
      "execution_count": 8,
      "outputs": [
        {
          "output_type": "execute_result",
          "data": {
            "text/plain": [
              "array([[-1.00, 2.00, 0.00, 0.00, 2.00, 98.00, 6.00, 94.00, -36.00],\n",
              "       [0.00, 0.33, 0.00, 1.00, -0.33, 0.33, 0.00, 0.00, 1.00],\n",
              "       [0.00, -0.33, 1.00, 0.00, 0.33, -0.33, -0.50, 0.50, 1.50]])"
            ]
          },
          "metadata": {
            "tags": []
          },
          "execution_count": 8
        }
      ]
    },
    {
      "cell_type": "markdown",
      "metadata": {
        "id": "eV1GoV1y_WkM"
      },
      "source": [
        "Since the 0-row has no negative number, the last entry of the first row is the maximum value of -w, which is -36. This implies min of w is 36"
      ]
    },
    {
      "cell_type": "code",
      "metadata": {
        "id": "ng0bntf_MrT6"
      },
      "source": [
        ""
      ],
      "execution_count": null,
      "outputs": []
    }
  ]
}