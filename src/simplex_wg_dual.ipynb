{
  "nbformat": 4,
  "nbformat_minor": 0,
  "metadata": {
    "colab": {
      "name": "Copy of Simplex.ipynb",
      "provenance": [],
      "authorship_tag": "ABX9TyPOD6y+W0RHgD4wUJWUv+W0",
      "include_colab_link": true
    },
    "kernelspec": {
      "name": "python3",
      "display_name": "Python 3"
    }
  },
  "cells": [
    {
      "cell_type": "markdown",
      "metadata": {
        "id": "view-in-github",
        "colab_type": "text"
      },
      "source": [
        "<a href=\"https://colab.research.google.com/github/songqsh/MA2210/blob/main/src/simplex_wg_dual.ipynb\" target=\"_parent\"><img src=\"https://colab.research.google.com/assets/colab-badge.svg\" alt=\"Open In Colab\"/></a>"
      ]
    },
    {
      "cell_type": "markdown",
      "metadata": {
        "id": "00ZyRRxarrBi"
      },
      "source": [
        "# Simplex method for the WG-dual\n",
        "\n",
        "We are going to run simplex tableau method for the dual of the example - WG:\n",
        "$$\\min w = 4 y_1  + 12 y_2 + 18 y_3$$\n",
        "s.t.\n",
        "$$\\begin{array}{lll}\n",
        "y_1 & & + 3y_3 & \\ge 3 \\\\\n",
        "& 2y_2 &+2y_3 & \\ge 5\n",
        "\\end{array}\n",
        "$$\n",
        "for $y_i\\ge 0$."
      ]
    },
    {
      "cell_type": "code",
      "metadata": {
        "id": "HdIczcDireLv"
      },
      "source": [
        "# import package\n",
        "import numpy as np\n",
        "import numpy.linalg as la\n",
        "float_formatter = \"{:.2f}\".format\n",
        "np.set_printoptions(formatter={'float_kind':float_formatter})\n",
        "import pandas as pd\n",
        "import warnings\n",
        "#ignore by message\n",
        "warnings.filterwarnings(\"ignore\", message=\"divide by zero encountered in true_divide\")\n"
      ],
      "execution_count": 7,
      "outputs": []
    },
    {
      "cell_type": "markdown",
      "metadata": {
        "id": "c2QmGEHdttx0"
      },
      "source": [
        "## Matrix in numpy"
      ]
    },
    {
      "cell_type": "code",
      "metadata": {
        "colab": {
          "base_uri": "https://localhost:8080/",
          "height": 142
        },
        "id": "hM68Z6gnr17k",
        "outputId": "0d2489e1-d6e5-4fb0-b0f8-f70054f0ba7b"
      },
      "source": [
        "# input augmented matrix with big M\n",
        "M = 100.0\n",
        "\n",
        "AM = np.array([\n",
        "               [-1, 4, 12, 18, 0, M, 0, M, 0], \n",
        "               [0, 1, 0, 3, -1, 1, 0, 0, 3], \n",
        "               [0, 0, 2, 2, 0, 0, -1, 1, 5]\n",
        "               ], dtype = float)\n",
        "pd.DataFrame(AM)\n",
        "#print(pd.AM) # print matrix"
      ],
      "execution_count": 8,
      "outputs": [
        {
          "output_type": "execute_result",
          "data": {
            "text/html": [
              "<div>\n",
              "<style scoped>\n",
              "    .dataframe tbody tr th:only-of-type {\n",
              "        vertical-align: middle;\n",
              "    }\n",
              "\n",
              "    .dataframe tbody tr th {\n",
              "        vertical-align: top;\n",
              "    }\n",
              "\n",
              "    .dataframe thead th {\n",
              "        text-align: right;\n",
              "    }\n",
              "</style>\n",
              "<table border=\"1\" class=\"dataframe\">\n",
              "  <thead>\n",
              "    <tr style=\"text-align: right;\">\n",
              "      <th></th>\n",
              "      <th>0</th>\n",
              "      <th>1</th>\n",
              "      <th>2</th>\n",
              "      <th>3</th>\n",
              "      <th>4</th>\n",
              "      <th>5</th>\n",
              "      <th>6</th>\n",
              "      <th>7</th>\n",
              "      <th>8</th>\n",
              "    </tr>\n",
              "  </thead>\n",
              "  <tbody>\n",
              "    <tr>\n",
              "      <th>0</th>\n",
              "      <td>-1.0</td>\n",
              "      <td>4.0</td>\n",
              "      <td>12.0</td>\n",
              "      <td>18.0</td>\n",
              "      <td>0.0</td>\n",
              "      <td>100.0</td>\n",
              "      <td>0.0</td>\n",
              "      <td>100.0</td>\n",
              "      <td>0.0</td>\n",
              "    </tr>\n",
              "    <tr>\n",
              "      <th>1</th>\n",
              "      <td>0.0</td>\n",
              "      <td>1.0</td>\n",
              "      <td>0.0</td>\n",
              "      <td>3.0</td>\n",
              "      <td>-1.0</td>\n",
              "      <td>1.0</td>\n",
              "      <td>0.0</td>\n",
              "      <td>0.0</td>\n",
              "      <td>3.0</td>\n",
              "    </tr>\n",
              "    <tr>\n",
              "      <th>2</th>\n",
              "      <td>0.0</td>\n",
              "      <td>0.0</td>\n",
              "      <td>2.0</td>\n",
              "      <td>2.0</td>\n",
              "      <td>0.0</td>\n",
              "      <td>0.0</td>\n",
              "      <td>-1.0</td>\n",
              "      <td>1.0</td>\n",
              "      <td>5.0</td>\n",
              "    </tr>\n",
              "  </tbody>\n",
              "</table>\n",
              "</div>"
            ],
            "text/plain": [
              "     0    1     2     3    4      5    6      7    8\n",
              "0 -1.0  4.0  12.0  18.0  0.0  100.0  0.0  100.0  0.0\n",
              "1  0.0  1.0   0.0   3.0 -1.0    1.0  0.0    0.0  3.0\n",
              "2  0.0  0.0   2.0   2.0  0.0    0.0 -1.0    1.0  5.0"
            ]
          },
          "metadata": {
            "tags": []
          },
          "execution_count": 8
        }
      ]
    },
    {
      "cell_type": "markdown",
      "metadata": {
        "id": "qPGpUZT94CSW"
      },
      "source": [
        "## Pivotizing\n",
        "\n",
        "Pivotizing with $(i,j)$-entry means converting the matrix by multiple EROS so that the resulting matrix has all zeros in $j$-column, but one in $(i,j)$-entry. This is the key step in updating basic feasible solution."
      ]
    },
    {
      "cell_type": "code",
      "metadata": {
        "id": "QOOCy0MY4kHm"
      },
      "source": [
        "#pivotize with (i,j)\n",
        "def pivot(A, i, j):\n",
        "  A[i] = A[i]/A[i,j] #scale to get one in (i,j)\n",
        "  n_rows, _ = A.shape\n",
        "  for k in range(n_rows):\n",
        "    if k==i:\n",
        "      continue # skip i-row\n",
        "    A[k] = A[k] - A[i]*A[k,j] # replacement to get zero\n",
        "    "
      ],
      "execution_count": 9,
      "outputs": []
    },
    {
      "cell_type": "markdown",
      "metadata": {
        "id": "o2p2m-mct1ZO"
      },
      "source": [
        "## Simplex tableau"
      ]
    },
    {
      "cell_type": "code",
      "metadata": {
        "colab": {
          "base_uri": "https://localhost:8080/"
        },
        "id": "pwnoP1xKtbbo",
        "outputId": "3b7baceb-f223-4929-ed4f-051f47d54603"
      },
      "source": [
        "AM # print original augmented matrix"
      ],
      "execution_count": 10,
      "outputs": [
        {
          "output_type": "execute_result",
          "data": {
            "text/plain": [
              "array([[-1.00, 4.00, 12.00, 18.00, 0.00, 100.00, 0.00, 100.00, 0.00],\n",
              "       [0.00, 1.00, 0.00, 3.00, -1.00, 1.00, 0.00, 0.00, 3.00],\n",
              "       [0.00, 0.00, 2.00, 2.00, 0.00, 0.00, -1.00, 1.00, 5.00]])"
            ]
          },
          "metadata": {
            "tags": []
          },
          "execution_count": 10
        }
      ]
    },
    {
      "cell_type": "code",
      "metadata": {
        "id": "Zjd9YyHi3p1_"
      },
      "source": [
        ""
      ],
      "execution_count": 10,
      "outputs": []
    },
    {
      "cell_type": "code",
      "metadata": {
        "colab": {
          "base_uri": "https://localhost:8080/"
        },
        "id": "fapBLmPO9bCG",
        "outputId": "e6bc7854-439c-41dd-d63e-7fe9a8f85fc3"
      },
      "source": [
        "pivot(AM, 1, 5)\n",
        "AM # print"
      ],
      "execution_count": 11,
      "outputs": [
        {
          "output_type": "execute_result",
          "data": {
            "text/plain": [
              "array([[-1.00, -96.00, 12.00, -282.00, 100.00, 0.00, 0.00, 100.00,\n",
              "        -300.00],\n",
              "       [0.00, 1.00, 0.00, 3.00, -1.00, 1.00, 0.00, 0.00, 3.00],\n",
              "       [0.00, 0.00, 2.00, 2.00, 0.00, 0.00, -1.00, 1.00, 5.00]])"
            ]
          },
          "metadata": {
            "tags": []
          },
          "execution_count": 11
        }
      ]
    },
    {
      "cell_type": "code",
      "metadata": {
        "colab": {
          "base_uri": "https://localhost:8080/"
        },
        "id": "HtsVnwu-9bFv",
        "outputId": "827eeb76-56c2-4b8e-82ef-94b8f3e0bf4c"
      },
      "source": [
        "pivot(AM, 2, 7)\n",
        "AM #print"
      ],
      "execution_count": 12,
      "outputs": [
        {
          "output_type": "execute_result",
          "data": {
            "text/plain": [
              "array([[-1.00, -96.00, -188.00, -482.00, 100.00, 0.00, 100.00, 0.00,\n",
              "        -800.00],\n",
              "       [0.00, 1.00, 0.00, 3.00, -1.00, 1.00, 0.00, 0.00, 3.00],\n",
              "       [0.00, 0.00, 2.00, 2.00, 0.00, 0.00, -1.00, 1.00, 5.00]])"
            ]
          },
          "metadata": {
            "tags": []
          },
          "execution_count": 12
        }
      ]
    },
    {
      "cell_type": "code",
      "metadata": {
        "colab": {
          "base_uri": "https://localhost:8080/"
        },
        "id": "7uH6DQrHLzsO",
        "outputId": "0ae28272-30d5-4d44-ea68-0f92f0d05851"
      },
      "source": [
        "pivot(AM, 1, 3)\n",
        "AM"
      ],
      "execution_count": 13,
      "outputs": [
        {
          "output_type": "execute_result",
          "data": {
            "text/plain": [
              "array([[-1.00, 64.67, -188.00, 0.00, -60.67, 160.67, 100.00, 0.00,\n",
              "        -318.00],\n",
              "       [0.00, 0.33, 0.00, 1.00, -0.33, 0.33, 0.00, 0.00, 1.00],\n",
              "       [0.00, -0.67, 2.00, 0.00, 0.67, -0.67, -1.00, 1.00, 3.00]])"
            ]
          },
          "metadata": {
            "tags": []
          },
          "execution_count": 13
        }
      ]
    },
    {
      "cell_type": "code",
      "metadata": {
        "colab": {
          "base_uri": "https://localhost:8080/"
        },
        "id": "oHTGgyZALz7o",
        "outputId": "e2bfc531-c975-4958-b3a9-3ad6aa4ffbc6"
      },
      "source": [
        "pivot(AM, 2,2)\n",
        "AM"
      ],
      "execution_count": 14,
      "outputs": [
        {
          "output_type": "execute_result",
          "data": {
            "text/plain": [
              "array([[-1.00, 2.00, 0.00, 0.00, 2.00, 98.00, 6.00, 94.00, -36.00],\n",
              "       [0.00, 0.33, 0.00, 1.00, -0.33, 0.33, 0.00, 0.00, 1.00],\n",
              "       [0.00, -0.33, 1.00, 0.00, 0.33, -0.33, -0.50, 0.50, 1.50]])"
            ]
          },
          "metadata": {
            "tags": []
          },
          "execution_count": 14
        }
      ]
    },
    {
      "cell_type": "markdown",
      "metadata": {
        "id": "eV1GoV1y_WkM"
      },
      "source": [
        "Since the 0-row has no negative number, the last entry of the first row is the maximum value of -w, which is -36. This implies min of w is 36"
      ]
    },
    {
      "cell_type": "code",
      "metadata": {
        "id": "ng0bntf_MrT6"
      },
      "source": [
        ""
      ],
      "execution_count": 14,
      "outputs": []
    }
  ]
}