{
 "nbformat": 4,
 "nbformat_minor": 0,
 "metadata": {
  "colab": {
   "name": "matrix.ipynb",
   "provenance": [],
   "authorship_tag": "ABX9TyPjGXS4fol/y8HYPMQfaaSF",
   "include_colab_link": true
  },
  "kernelspec": {
   "name": "python3",
   "display_name": "Python 3"
  },
  "language_info": {
   "name": "python"
  }
 },
 "cells": [
  {
   "cell_type": "code",
   "metadata": {
    "id": "zvFu_ZEup6Nl"
   },
   "source": [
    "# import packages\n",
    "import numpy as np"
   ],
   "execution_count": 2,
   "outputs": []
  },
  {
   "cell_type": "code",
   "metadata": {
    "colab": {
     "base_uri": "https://localhost:8080/"
    },
    "id": "yUeKOm6fqCVZ",
    "outputId": "b85c8b89-578d-4124-85ea-cd169c70bd08"
   },
   "source": [
    "# matrix input\n",
    "A = np.array([[2,3], [1, -5]])\n",
    "B = np.array([[4,3,6], [1,-2,3.]])\n",
    "print(f'The matrix A is \\n {A}')\n",
    "print(f'The matrix B is \\n {B}')"
   ],
   "execution_count": 3,
   "outputs": [
    {
     "name": "stdout",
     "output_type": "stream",
     "text": [
      "The matrix A is \n",
      " [[ 2  3]\n",
      " [ 1 -5]]\n",
      "The matrix B is \n",
      " [[ 4.  3.  6.]\n",
      " [ 1. -2.  3.]]\n"
     ]
    }
   ]
  },
  {
   "cell_type": "code",
   "metadata": {
    "colab": {
     "base_uri": "https://localhost:8080/"
    },
    "id": "KuH3AHHKqaRr",
    "outputId": "6bb45dda-0cdb-4ce2-cd19-dbfc24c94942"
   },
   "source": [
    "# transpose \n",
    "print(f'transpose of A is {A.T}')\n",
    "print(f'transpose of B is {B.T}')"
   ],
   "execution_count": 4,
   "outputs": [
    {
     "name": "stdout",
     "output_type": "stream",
     "text": [
      "transpose of A is [[ 2  1]\n",
      " [ 3 -5]]\n",
      "transpose of B is [[ 4.  1.]\n",
      " [ 3. -2.]\n",
      " [ 6.  3.]]\n"
     ]
    }
   ]
  },
  {
   "cell_type": "code",
   "metadata": {
    "colab": {
     "base_uri": "https://localhost:8080/"
    },
    "id": "NlXSUcRfq5BR",
    "outputId": "a268b12c-47be-43da-e0fb-83a9444b28d8"
   },
   "source": [
    "# matrix multiplication\n",
    "print(B.T@A.T)"
   ],
   "execution_count": 5,
   "outputs": [
    {
     "name": "stdout",
     "output_type": "stream",
     "text": [
      "[[11. -1.]\n",
      " [ 0. 13.]\n",
      " [21. -9.]]\n"
     ]
    }
   ]
  },
  {
   "cell_type": "code",
   "metadata": {
    "id": "wYL07_OUrF0_"
   },
   "source": [
    "# inverse of a matrix\n",
    "C = np.linalg.inv(A)\n",
    "print(f'matrix C is \\n {C}')\n",
    "print(f'A times C is \\n {A@C}')"
   ],
   "execution_count": 7,
   "outputs": [
    {
     "name": "stdout",
     "output_type": "stream",
     "text": [
      "matrix C is \n",
      " [[ 0.38461538  0.23076923]\n",
      " [ 0.07692308 -0.15384615]]\n",
      "A times C is \n",
      " [[ 1.00000000e+00  0.00000000e+00]\n",
      " [-5.55111512e-17  1.00000000e+00]]\n"
     ]
    }
   ]
  },
  {
   "cell_type": "code",
   "execution_count": 6,
   "outputs": [],
   "source": [],
   "metadata": {
    "collapsed": false,
    "pycharm": {
     "name": "#%%\n"
    }
   }
  }
 ]
}