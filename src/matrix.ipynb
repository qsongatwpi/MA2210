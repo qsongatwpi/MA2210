{
  "nbformat": 4,
  "nbformat_minor": 0,
  "metadata": {
    "colab": {
      "name": "matrix.ipynb",
      "provenance": [],
      "authorship_tag": "ABX9TyPjGXS4fol/y8HYPMQfaaSF",
      "include_colab_link": true
    },
    "kernelspec": {
      "name": "python3",
      "display_name": "Python 3"
    },
    "language_info": {
      "name": "python"
    }
  },
  "cells": [
    {
      "cell_type": "markdown",
      "metadata": {
        "id": "view-in-github",
        "colab_type": "text"
      },
      "source": [
        "<a href=\"https://colab.research.google.com/github/songqsh/MA2210/blob/main/src/matrix.ipynb\" target=\"_parent\"><img src=\"https://colab.research.google.com/assets/colab-badge.svg\" alt=\"Open In Colab\"/></a>"
      ]
    },
    {
      "cell_type": "code",
      "metadata": {
        "id": "zvFu_ZEup6Nl"
      },
      "source": [
        "# import packages\n",
        "\n",
        "import numpy as np\n",
        "import numpy.linalg as la"
      ],
      "execution_count": 1,
      "outputs": []
    },
    {
      "cell_type": "code",
      "metadata": {
        "colab": {
          "base_uri": "https://localhost:8080/"
        },
        "id": "yUeKOm6fqCVZ",
        "outputId": "b85c8b89-578d-4124-85ea-cd169c70bd08"
      },
      "source": [
        "# matrix input\n",
        "A = np.array([[2,3], [1, -5]])\n",
        "B = np.array([[4,3,6], [1,-2,3.]])\n",
        "print(A)\n",
        "print(B)"
      ],
      "execution_count": 3,
      "outputs": [
        {
          "output_type": "stream",
          "text": [
            "[[ 2  3]\n",
            " [ 1 -5]]\n",
            "[[ 4.  3.  6.]\n",
            " [ 1. -2.  3.]]\n"
          ],
          "name": "stdout"
        }
      ]
    },
    {
      "cell_type": "code",
      "metadata": {
        "colab": {
          "base_uri": "https://localhost:8080/"
        },
        "id": "KuH3AHHKqaRr",
        "outputId": "6bb45dda-0cdb-4ce2-cd19-dbfc24c94942"
      },
      "source": [
        "# transpose \n",
        "print(A.T)\n",
        "print(B.T)"
      ],
      "execution_count": 6,
      "outputs": [
        {
          "output_type": "stream",
          "text": [
            "[[ 2  1]\n",
            " [ 3 -5]]\n",
            "[[ 4.  1.]\n",
            " [ 3. -2.]\n",
            " [ 6.  3.]]\n"
          ],
          "name": "stdout"
        }
      ]
    },
    {
      "cell_type": "code",
      "metadata": {
        "colab": {
          "base_uri": "https://localhost:8080/"
        },
        "id": "NlXSUcRfq5BR",
        "outputId": "a268b12c-47be-43da-e0fb-83a9444b28d8"
      },
      "source": [
        "# matrix multiplication\n",
        "print(B.T@A.T)"
      ],
      "execution_count": 8,
      "outputs": [
        {
          "output_type": "stream",
          "text": [
            "[[11. -1.]\n",
            " [ 0. 13.]\n",
            " [21. -9.]]\n"
          ],
          "name": "stdout"
        }
      ]
    },
    {
      "cell_type": "code",
      "metadata": {
        "id": "wYL07_OUrF0_"
      },
      "source": [
        ""
      ],
      "execution_count": null,
      "outputs": []
    }
  ]
}