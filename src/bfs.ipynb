{
 "cells": [
  {
   "cell_type": "markdown",
   "metadata": {
    "id": "0YJSS56376aX"
   },
   "source": [
    "# An example on BFS enumeration\n",
    "\n"
   ]
  },
  {
   "cell_type": "code",
   "execution_count": 1,
   "metadata": {
    "id": "LxkL8bK375hG"
   },
   "outputs": [],
   "source": [
    "# import packages\n",
    "import numpy as np\n",
    "import numpy.linalg as la\n",
    "np.set_printoptions(suppress=True)\n",
    "import itertools"
   ]
  },
  {
   "cell_type": "markdown",
   "metadata": {
    "collapsed": false,
    "id": "W9t9MWEQOlww",
    "pycharm": {
     "name": "#%% md\n"
    }
   },
   "source": [
    "Ex-LL formulation is as follows:\n",
    "$$\n",
    "\\begin{array}\n",
    "{ll}\n",
    "\\max z &=  4x_1 + 3 x_2\\\\\n",
    "s..t\\\\\n",
    "& x_1 + x_2 \\le 40\\\\\n",
    "& 2 x_1 + x_2 \\le 60\\\\\n",
    "& x_1, x_2 \\ge 0\n",
    "\\end{array}\n",
    "$$"
   ]
  },
  {
   "cell_type": "code",
   "execution_count": 18,
   "metadata": {
    "id": "jw7rKh7AxW79"
   },
   "outputs": [],
   "source": [
    "# input augmented form\n",
    "c = np.array([4, 3, 0, 0])\n",
    "A = np.array([[1.,1,1,0], [2.,1,0,1]])\n",
    "b = np.array([40,60])"
   ]
  },
  {
   "cell_type": "code",
   "execution_count": 19,
   "metadata": {
    "id": "57Xo2--rOlwx",
    "pycharm": {
     "name": "#%%\n"
    }
   },
   "outputs": [],
   "source": [
    "# A function solving for bfs\n",
    "# inputs:\n",
    "#   list_of_bv: an index list of basic variables\n",
    "#   mat_A: 2d numpy array for matrix A\n",
    "#   vec_b: 1d numpy array with the length equal to row number of A\n",
    "# return:\n",
    "#   either basic solution or error message\n",
    "def bfs(list_of_bv, mat_A, vec_b):\n",
    "    try:\n",
    "        basic_solution = la.solve(mat_A[:, list_of_bv], vec_b)\n",
    "\n",
    "        if min(basic_solution) < 0:\n",
    "            raise (ValueError('Infeasible solution'))\n",
    "        return basic_solution\n",
    "\n",
    "    except la.LinAlgError as err:\n",
    "        return err\n",
    "\n",
    "    except ValueError as err:\n",
    "        return err"
   ]
  },
  {
   "cell_type": "code",
   "execution_count": 30,
   "metadata": {
    "colab": {
     "base_uri": "https://localhost:8080/"
    },
    "id": "v7TNrCHPaGHP",
    "outputId": "32cfb2d7-78eb-45cd-d298-f7011b45bb00"
   },
   "outputs": [
    {
     "name": "stdout",
     "output_type": "stream",
     "text": [
      "Infeasible solution\n"
     ]
    }
   ],
   "source": [
    "bv = [0,3] #column indices for bv\n",
    "res = bfs(bv, A, b)\n",
    "print(res)\n"
   ]
  },
  {
   "cell_type": "code",
   "execution_count": 31,
   "metadata": {},
   "outputs": [
    {
     "name": "stdout",
     "output_type": "stream",
     "text": [
      "Optimal solution\n",
      "[20. 20.]\n",
      "Objective value:  140.0\n"
     ]
    }
   ],
   "source": [
    "\n",
    "bv = [0,1] #column indices for bv\n",
    "res = bfs(bv, A, b)\n",
    "# print(res)\n",
    "print('Optimal solution')\n",
    "print(res)\n",
    "print('Objective value: ', np.dot(c[bv], res))"
   ]
  },
  {
   "cell_type": "code",
   "execution_count": 8,
   "metadata": {
    "colab": {
     "base_uri": "https://localhost:8080/"
    },
    "id": "0iF7r5Il0cGH",
    "outputId": "8fba19f9-6681-4682-f3ba-8969c771fae1"
   },
   "outputs": [
    {
     "name": "stdout",
     "output_type": "stream",
     "text": [
      "checking bv (0, 1)\n",
      "--- [20. 20.]\n",
      "checking bv (0, 2)\n",
      "--- [30. 10.]\n",
      "checking bv (0, 3)\n",
      "--- Infeasible solution\n",
      "checking bv (1, 2)\n",
      "--- Infeasible solution\n",
      "checking bv (1, 3)\n",
      "--- [40. 20.]\n",
      "checking bv (2, 3)\n",
      "--- [40. 60.]\n"
     ]
    }
   ],
   "source": [
    "bvs = itertools.combinations(range(4), 2)\n",
    "\n",
    "for bv1 in bvs:\n",
    "    print(f'checking bv {bv1}')\n",
    "    res1 = bfs(bv1, A, b)\n",
    "    print(f'--- {res1}')"
   ]
  },
  {
   "cell_type": "markdown",
   "metadata": {
    "collapsed": false,
    "id": "8i9IwbkLOlwz",
    "pycharm": {
     "name": "#%% md\n"
    }
   },
   "source": [
    "__Ex__\n",
    "Consider the following LP:\n",
    "$$\n",
    "\\begin{array}{lll}\n",
    "\\max z = & 3 x_1 + 2 x_2 \\\\\n",
    "s.t. \\\\\n",
    "& 2x_1 + x_2 & \\le 100 \\\\\n",
    "& x_1 + x_2 & \\le 80 \\\\\n",
    "& x_1 & \\le 40 \\\\\n",
    "& x_1, x_2 \\ge 0.\n",
    "\\end{array}\n",
    "$$\n",
    "- List all the combination of basic variables and justify if they are feasible\n",
    "- Compute their corresponding $z$-value for the feasible ones and find the optimal solution."
   ]
  },
  {
   "cell_type": "code",
   "execution_count": 10,
   "metadata": {},
   "outputs": [
    {
     "name": "stdout",
     "output_type": "stream",
     "text": [
      "checking bv (0, 1, 2)\n",
      "--- Infeasible solution\n",
      "checking bv (0, 1, 3)\n",
      "--- [40. 20. 20.]\n",
      "checking bv (0, 1, 4)\n",
      "--- [20. 60. 20.]\n",
      "checking bv (0, 2, 3)\n",
      "--- [40. 20. 40.]\n",
      "checking bv (0, 2, 4)\n",
      "--- Infeasible solution\n",
      "checking bv (0, 3, 4)\n",
      "--- Infeasible solution\n",
      "checking bv (1, 2, 3)\n",
      "--- Singular matrix\n",
      "checking bv (1, 2, 4)\n",
      "--- [80. 20. 40.]\n",
      "checking bv (1, 3, 4)\n",
      "--- Infeasible solution\n",
      "checking bv (2, 3, 4)\n",
      "--- [100.  80.  40.]\n"
     ]
    }
   ],
   "source": [
    "# input augmented form\n",
    "A = np.array([[2.,1,1,0, 0], [1.,1,0,1, 0], [1.,0,0,0, 1]])\n",
    "b = np.array([100, 80, 40])\n",
    "\n",
    "bvs = itertools.combinations(range(5), 3)\n",
    "\n",
    "for bv1 in bvs:\n",
    "    print(f'checking bv {bv1}')\n",
    "    res1 = bfs(bv1, A, b)\n",
    "    print(f'--- {res1}')"
   ]
  },
  {
   "cell_type": "markdown",
   "metadata": {},
   "source": [
    "__Ex__. Consider the following problem:\n",
    "$$\\begin{array}{ll}\n",
    "\\max z = & 4 x_1 + 3 x_2 + 6 x_3 \\\\\n",
    "s.t. \\\\\n",
    "    & 3x_1 + x_2 + 3x_3 \\le 30 \\\\\n",
    "    & 2 x_1 + 2 x_2 + 3 x_3 \\le 40 \\\\\n",
    "    & x_1, x_2, x_3 \\ge 0.\n",
    "\\end{array}\n",
    "$$\n",
    "-  List all the combination of basic variables and justify if they are feasible\n",
    "- Compute their corresponding $z$-value for the feasible ones and find the optimal solution."
   ]
  },
  {
   "cell_type": "code",
   "execution_count": 32,
   "metadata": {},
   "outputs": [
    {
     "name": "stdout",
     "output_type": "stream",
     "text": [
      "checking bv (0, 1)\n",
      "--- [ 5. 15.]\n",
      "checking bv (0, 2)\n",
      "--- Infeasible solution\n",
      "checking bv (0, 3)\n",
      "--- Infeasible solution\n",
      "checking bv (0, 4)\n",
      "--- [10. 20.]\n",
      "checking bv (1, 2)\n",
      "--- [10.          6.66666667]\n",
      "checking bv (1, 3)\n",
      "--- [20. 10.]\n",
      "checking bv (1, 4)\n",
      "--- Infeasible solution\n",
      "checking bv (2, 3)\n",
      "--- Infeasible solution\n",
      "checking bv (2, 4)\n",
      "--- [10. 10.]\n",
      "checking bv (3, 4)\n",
      "--- [30. 40.]\n"
     ]
    }
   ],
   "source": [
    "# input augmented form\n",
    "A = np.array([[3.,1.,3,1, 0], [2.,2,3,0., 1]])\n",
    "b = np.array([30., 40])\n",
    "\n",
    "bvs = itertools.combinations(range(5), 2)\n",
    "\n",
    "for bv1 in bvs:\n",
    "    print(f'checking bv {bv1}')\n",
    "    res1 = bfs(bv1, A, b)\n",
    "    print(f'--- {res1}')"
   ]
  },
  {
   "cell_type": "code",
   "execution_count": null,
   "metadata": {},
   "outputs": [],
   "source": []
  }
 ],
 "metadata": {
  "colab": {
   "name": "python_notebook.ipynb",
   "provenance": []
  },
  "kernelspec": {
   "display_name": "base",
   "language": "python",
   "name": "python3"
  },
  "language_info": {
   "codemirror_mode": {
    "name": "ipython",
    "version": 3
   },
   "file_extension": ".py",
   "mimetype": "text/x-python",
   "name": "python",
   "nbconvert_exporter": "python",
   "pygments_lexer": "ipython3",
   "version": "3.11.7"
  }
 },
 "nbformat": 4,
 "nbformat_minor": 0
}
