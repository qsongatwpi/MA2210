{
  "nbformat": 4,
  "nbformat_minor": 0,
  "metadata": {
    "colab": {
      "name": "python_notebook.ipynb",
      "provenance": []
    },
    "kernelspec": {
      "name": "python3",
      "display_name": "Python 3"
    },
    "language_info": {
      "name": "python"
    }
  },
  "cells": [
    {
      "cell_type": "markdown",
      "metadata": {
        "id": "0YJSS56376aX"
      },
      "source": [
        "# An example on BFS enumeration\n",
        "\n"
      ]
    },
    {
      "cell_type": "code",
      "metadata": {
        "id": "LxkL8bK375hG"
      },
      "source": [
        "# import packages\n",
        "import numpy as np\n",
        "import numpy.linalg as la\n",
        "np.set_printoptions(suppress=True)\n",
        "import itertools"
      ],
      "execution_count": null,
      "outputs": []
    },
    {
      "cell_type": "markdown",
      "source": [
        "Ex-LL formulation is as follows:\n",
        "$$\n",
        "\\begin{array}\n",
        "{ll}\n",
        "\\max z &=  4x_1 + 3 x_2\\\\\n",
        "s..t\\\\\n",
        "& x_1 + x_2 \\le 40\\\\\n",
        "& 2 x_1 + x_2 \\le 60\\\\\n",
        "& x_1, x_2 \\ge 0\n",
        "\\end{array}\n",
        "$$"
      ],
      "metadata": {
        "collapsed": false,
        "pycharm": {
          "name": "#%% md\n"
        },
        "id": "W9t9MWEQOlww"
      }
    },
    {
      "cell_type": "code",
      "metadata": {
        "id": "jw7rKh7AxW79"
      },
      "source": [
        "# input augmented form\n",
        "A = np.array([[1.,1,1,0], [2.,1,0,1]])\n",
        "b = np.array([40,60])"
      ],
      "execution_count": null,
      "outputs": []
    },
    {
      "cell_type": "code",
      "execution_count": null,
      "outputs": [],
      "source": [
        "# A function solving for bfs\n",
        "# inputs:\n",
        "#   list_of_bv: an index list of basic variables\n",
        "#   mat_A: 2d numpy array for matrix A\n",
        "#   vec_b: 1d numpy array with the length equal to row number of A\n",
        "# return:\n",
        "#   either basic solution or error message\n",
        "def bfs(list_of_bv, mat_A, vec_b):\n",
        "    try:\n",
        "        basic_solution = la.solve(mat_A[:, list_of_bv], vec_b)\n",
        "\n",
        "        if min(basic_solution) < 0:\n",
        "            raise (ValueError('Infeasible solution'))\n",
        "        return basic_solution\n",
        "\n",
        "    except la.LinAlgError as err:\n",
        "        return err\n",
        "\n",
        "    except ValueError as err:\n",
        "        return err"
      ],
      "metadata": {
        "pycharm": {
          "name": "#%%\n"
        },
        "id": "57Xo2--rOlwx"
      }
    },
    {
      "cell_type": "code",
      "metadata": {
        "id": "v7TNrCHPaGHP",
        "outputId": "32cfb2d7-78eb-45cd-d298-f7011b45bb00",
        "colab": {
          "base_uri": "https://localhost:8080/"
        }
      },
      "source": [
        "bv = [0,3] #column indices for bv\n",
        "res = bfs(bv, A, b)\n",
        "print(res)\n",
        "bv = [0,1] #column indices for bv\n",
        "res = bfs(bv, A, b)\n",
        "print(res)"
      ],
      "execution_count": null,
      "outputs": [
        {
          "output_type": "stream",
          "name": "stdout",
          "text": [
            "Infeasible solution\n",
            "[20. 20.]\n"
          ]
        }
      ]
    },
    {
      "cell_type": "code",
      "metadata": {
        "id": "0iF7r5Il0cGH",
        "outputId": "8fba19f9-6681-4682-f3ba-8969c771fae1",
        "colab": {
          "base_uri": "https://localhost:8080/"
        }
      },
      "source": [
        "bvs = itertools.combinations(range(4), 2)\n",
        "\n",
        "for bv1 in bvs:\n",
        "    print(f'checking bv {bv1}')\n",
        "    res1 = bfs(bv1, A, b)\n",
        "    print(f'--- {res1}')"
      ],
      "execution_count": null,
      "outputs": [
        {
          "output_type": "stream",
          "name": "stdout",
          "text": [
            "checking bv (0, 1)\n",
            "--- [20. 20.]\n",
            "checking bv (0, 2)\n",
            "--- [30. 10.]\n",
            "checking bv (0, 3)\n",
            "--- Infeasible solution\n",
            "checking bv (1, 2)\n",
            "--- Infeasible solution\n",
            "checking bv (1, 3)\n",
            "--- [40. 20.]\n",
            "checking bv (2, 3)\n",
            "--- [40. 60.]\n"
          ]
        }
      ]
    },
    {
      "cell_type": "markdown",
      "source": [
        "__Ex__\n",
        "Consider the following LP:\n",
        "$$\n",
        "\\begin{array}{lll}\n",
        "\\max z = & 3 x_1 + 2 x_2 \\\\\n",
        "s.t. \\\\\n",
        "& 2x_1 + x_2 & \\le 100 \\\\\n",
        "& x_1 + x_2 & \\le 80 \\\\\n",
        "& x_1 & \\le 40 \\\\\n",
        "& x_1, x_2 \\ge 0.\n",
        "\\end{array}\n",
        "$$\n",
        "- List all the combination of basic variables and justify if they are feasible\n",
        "- Compute their corresponding $z$-value for the feasible ones and find the optimal solution."
      ],
      "metadata": {
        "collapsed": false,
        "pycharm": {
          "name": "#%% md\n"
        },
        "id": "8i9IwbkLOlwz"
      }
    },
    {
      "cell_type": "code",
      "execution_count": null,
      "outputs": [],
      "source": [
        ""
      ],
      "metadata": {
        "pycharm": {
          "name": "#%%\n"
        },
        "id": "CGyG8L-4Olw0"
      }
    }
  ]
}