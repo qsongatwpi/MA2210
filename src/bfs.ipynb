{
 "nbformat": 4,
 "nbformat_minor": 0,
 "metadata": {
  "colab": {
   "name": "python_notebook.ipynb",
   "provenance": [],
   "authorship_tag": "ABX9TyM7X6qJpfm6UBxUZaT2E/hz",
   "include_colab_link": true
  },
  "kernelspec": {
   "name": "python3",
   "display_name": "Python 3"
  },
  "language_info": {
   "name": "python"
  }
 },
 "cells": [
  {
   "cell_type": "markdown",
   "metadata": {
    "id": "0YJSS56376aX"
   },
   "source": [
    "# BFS\n",
    "\n"
   ]
  },
  {
   "cell_type": "code",
   "metadata": {
    "id": "LxkL8bK375hG"
   },
   "source": [
    "# import packages\n",
    "import numpy as np\n",
    "import numpy.linalg as la\n",
    "np.set_printoptions(suppress=True)"
   ],
   "execution_count": 5,
   "outputs": []
  },
  {
   "cell_type": "code",
   "metadata": {
    "id": "jw7rKh7AxW79"
   },
   "source": [
    "# input data\n",
    "A = np.array([[1.,1,1,0], [2.,1,0,1]])\n",
    "b = np.array([40,60])"
   ],
   "execution_count": 6,
   "outputs": []
  },
  {
   "cell_type": "code",
   "metadata": {
    "id": "v7TNrCHPaGHP",
    "outputId": "3e37c9bb-db87-4845-e860-973ae666d74b",
    "colab": {
     "base_uri": "https://localhost:8080/"
    }
   },
   "source": [
    "bv = [0,1] #column indices for bv\n",
    "bs = la.solve(A[:,bv], b)\n",
    "print(f'bv is {bv} and bs is {bs}')"
   ],
   "execution_count": 7,
   "outputs": [
    {
     "name": "stdout",
     "output_type": "stream",
     "text": [
      "bv is [0, 1] and bs is [20. 20.]\n"
     ]
    }
   ]
  },
  {
   "cell_type": "code",
   "metadata": {
    "id": "0iF7r5Il0cGH"
   },
   "source": [
    ""
   ],
   "execution_count": 7,
   "outputs": []
  }
 ]
}