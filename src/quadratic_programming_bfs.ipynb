{
  "nbformat": 4,
  "nbformat_minor": 0,
  "metadata": {
    "colab": {
      "name": "quadratic_programming_bfs.ipynb",
      "provenance": [],
      "authorship_tag": "ABX9TyPi7DFdzYsvY7h5O7YTY6rH",
      "include_colab_link": true
    },
    "kernelspec": {
      "name": "python3",
      "display_name": "Python 3"
    },
    "language_info": {
      "name": "python"
    }
  },
  "cells": [
    {
      "cell_type": "markdown",
      "metadata": {
        "id": "view-in-github",
        "colab_type": "text"
      },
      "source": [
        "<a href=\"https://colab.research.google.com/github/songqsh/MA2210/blob/main/src/quadratic_programming_bfs.ipynb\" target=\"_parent\"><img src=\"https://colab.research.google.com/assets/colab-badge.svg\" alt=\"Open In Colab\"/></a>"
      ]
    },
    {
      "cell_type": "markdown",
      "metadata": {
        "id": "0YJSS56376aX"
      },
      "source": [
        "# Transport problem\n",
        "From Section 8.1\n",
        "\n"
      ]
    },
    {
      "cell_type": "code",
      "metadata": {
        "id": "LxkL8bK375hG"
      },
      "source": [
        "# import packages\n",
        "import numpy as np\n",
        "import numpy.linalg as la\n",
        "np.set_printoptions(suppress=True)\n",
        "import itertools"
      ],
      "execution_count": 1,
      "outputs": []
    },
    {
      "cell_type": "code",
      "metadata": {
        "colab": {
          "base_uri": "https://localhost:8080/"
        },
        "id": "pI1Z5c0aKWRy",
        "outputId": "6c7ff396-578a-48c7-ec13-3bafb7959c83"
      },
      "source": [
        "A = np.array([[4, -4, 1, -1, 0, 0, 15],\n",
        "              [-4, 8., 2., 0, -1, 0, 30],\n",
        "              [1, 2, 0, 0, 0, 1, 30]])\n",
        "print(f'{A}')"
      ],
      "execution_count": 2,
      "outputs": [
        {
          "output_type": "stream",
          "text": [
            "[[ 4. -4.  1. -1.  0.  0. 15.]\n",
            " [-4.  8.  2.  0. -1.  0. 30.]\n",
            " [ 1.  2.  0.  0.  0.  1. 30.]]\n"
          ],
          "name": "stdout"
        }
      ]
    },
    {
      "cell_type": "code",
      "metadata": {
        "colab": {
          "base_uri": "https://localhost:8080/"
        },
        "id": "4Aq1wuWFNdVO",
        "outputId": "c7fd5b9f-98cc-4316-8bb3-2256d77b588c"
      },
      "source": [
        "for bv in itertools.product([0,3],[1,4],[2,5]):\n",
        "  try:\n",
        "    bs = la.solve(A[:,bv], A[:,-1])\n",
        "    print(f'bv is {bv} and bs is {bs}')\n",
        "  except:\n",
        "    print(f'bv is {bv} and  it is singular')"
      ],
      "execution_count": 21,
      "outputs": [
        {
          "output_type": "stream",
          "text": [
            "bv is (0, 1, 2) and bs is [12.  9.  3.]\n",
            "bv is (0, 1, 5) and bs is [15.   11.25 -7.5 ]\n",
            "bv is (0, 4, 2) and bs is [  30. -360. -105.]\n",
            "bv is (0, 4, 5) and bs is [  3.75 -45.    26.25]\n",
            "bv is (3, 1, 2) and bs is [-120.   15.  -45.]\n",
            "bv is (3, 1, 5) and bs is [-30.     3.75  22.5 ]\n",
            "bv is (3, 4, 2) and  it is singular\n",
            "bv is (3, 4, 5) and bs is [-15. -30.  30.]\n"
          ],
          "name": "stdout"
        }
      ]
    },
    {
      "cell_type": "code",
      "metadata": {
        "colab": {
          "base_uri": "https://localhost:8080/"
        },
        "id": "msgNfQGvL1zc",
        "outputId": "4dae1adf-b33a-45ff-a1b8-c9272263ab29"
      },
      "source": [
        "bv = [3,4,2]\n",
        "try:\n",
        "  bs = la.solve(A[:,bv], A[:,-1])\n",
        "  print(f'bv is {bv} and bs is {bs}')\n",
        "except:\n",
        "  print(f'bv is {bv} and  it is singular')"
      ],
      "execution_count": 15,
      "outputs": [
        {
          "output_type": "stream",
          "text": [
            "bv is [3, 4, 2] and  it is singular\n"
          ],
          "name": "stdout"
        }
      ]
    },
    {
      "cell_type": "code",
      "metadata": {
        "colab": {
          "base_uri": "https://localhost:8080/"
        },
        "id": "lBg1P0BmMEEg",
        "outputId": "b2f0d0fd-8606-4a28-a979-35ee37f05079"
      },
      "source": [
        "bv = [0,4,2]\n",
        "bs = la.solve(A[:,bv], A[:,-1])\n",
        "print(f'bv is {bv} and bs is {bs}')"
      ],
      "execution_count": 8,
      "outputs": [
        {
          "output_type": "stream",
          "text": [
            "bv is [0, 4, 2] and bs is [  30. -360. -105.]\n"
          ],
          "name": "stdout"
        }
      ]
    },
    {
      "cell_type": "code",
      "metadata": {
        "colab": {
          "base_uri": "https://localhost:8080/"
        },
        "id": "R8IY4MrGMJib",
        "outputId": "86f8d793-aa0f-4ef6-c554-7e1b412d8d99"
      },
      "source": [
        "bv = [0,1,5]\n",
        "bs = la.solve(A[:,bv], A[:,-1])\n",
        "print(f'bv is {bv} and bs is {bs}')"
      ],
      "execution_count": 9,
      "outputs": [
        {
          "output_type": "stream",
          "text": [
            "bv is [0, 1, 5] and bs is [15.   11.25 -7.5 ]\n"
          ],
          "name": "stdout"
        }
      ]
    },
    {
      "cell_type": "code",
      "metadata": {
        "id": "USfXwJizZW9a",
        "colab": {
          "base_uri": "https://localhost:8080/"
        },
        "outputId": "4916efc9-0f2d-41f4-8806-c46538c31cde"
      },
      "source": [
        "bv = [3,1,5]\n",
        "bs = la.solve(A[:,bv], A[:,-1])\n",
        "print(f'bv is {bv} and bs is {bs}')"
      ],
      "execution_count": 10,
      "outputs": [
        {
          "output_type": "stream",
          "text": [
            "bv is [3, 1, 5] and bs is [-30.     3.75  22.5 ]\n"
          ],
          "name": "stdout"
        }
      ]
    },
    {
      "cell_type": "code",
      "metadata": {
        "colab": {
          "base_uri": "https://localhost:8080/"
        },
        "id": "hp85alFwMTXf",
        "outputId": "7a18f263-f104-4c25-86b5-3c25f69960a8"
      },
      "source": [
        "bv = [3,4,5]\n",
        "bs = la.solve(A[:,bv], A[:,-1])\n",
        "print(f'bv is {bv} and bs is {bs}')"
      ],
      "execution_count": 11,
      "outputs": [
        {
          "output_type": "stream",
          "text": [
            "bv is [3, 4, 5] and bs is [-15. -30.  30.]\n"
          ],
          "name": "stdout"
        }
      ]
    },
    {
      "cell_type": "code",
      "metadata": {
        "colab": {
          "base_uri": "https://localhost:8080/"
        },
        "id": "awqgQdTsMV0j",
        "outputId": "e809109d-47c9-420b-9579-511d1c0e5681"
      },
      "source": [
        "bv = [0,4,5]\n",
        "bs = la.solve(A[:,bv], A[:,-1])\n",
        "print(f'bv is {bv} and bs is {bs}')"
      ],
      "execution_count": 12,
      "outputs": [
        {
          "output_type": "stream",
          "text": [
            "bv is [0, 4, 5] and bs is [  3.75 -45.    26.25]\n"
          ],
          "name": "stdout"
        }
      ]
    },
    {
      "cell_type": "code",
      "metadata": {
        "id": "bYfSohBlMYTh"
      },
      "source": [
        ""
      ],
      "execution_count": null,
      "outputs": []
    }
  ]
}