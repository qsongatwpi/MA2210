{
  "nbformat": 4,
  "nbformat_minor": 0,
  "metadata": {
    "colab": {
      "name": "quadratic_programming_bfs.ipynb",
      "provenance": [],
      "authorship_tag": "ABX9TyNKCnL10KN2Gase4mNfSd1r",
      "include_colab_link": true
    },
    "kernelspec": {
      "name": "python3",
      "display_name": "Python 3"
    },
    "language_info": {
      "name": "python"
    }
  },
  "cells": [
    {
      "cell_type": "markdown",
      "metadata": {
        "id": "view-in-github",
        "colab_type": "text"
      },
      "source": [
        "<a href=\"https://colab.research.google.com/github/songqsh/MA2210/blob/main/src/quadratic_programming_bfs.ipynb\" target=\"_parent\"><img src=\"https://colab.research.google.com/assets/colab-badge.svg\" alt=\"Open In Colab\"/></a>"
      ]
    },
    {
      "cell_type": "markdown",
      "metadata": {
        "id": "0YJSS56376aX"
      },
      "source": [
        "# KKT for Quadratic programing\n",
        "From Section 13.7 of [HL]\n",
        "\n"
      ]
    },
    {
      "cell_type": "code",
      "metadata": {
        "id": "LxkL8bK375hG"
      },
      "source": [
        "# import packages\n",
        "import numpy as np\n",
        "import numpy.linalg as la\n",
        "np.set_printoptions(suppress=True)\n",
        "import itertools"
      ],
      "execution_count": null,
      "outputs": []
    },
    {
      "cell_type": "code",
      "metadata": {
        "colab": {
          "base_uri": "https://localhost:8080/"
        },
        "id": "pI1Z5c0aKWRy",
        "outputId": "2b269e40-5400-4b08-c1d6-1f52b154a1f7"
      },
      "source": [
        "A = np.array([[4, -4, 1, -1, 0, 0, 15],\n",
        "              [-4, 8., 2., 0, -1, 0, 30],\n",
        "              [1, 2, 0, 0, 0, 1, 30]])\n",
        "print(f'{A}')"
      ],
      "execution_count": null,
      "outputs": [
        {
          "output_type": "stream",
          "text": [
            "[[ 4. -4.  1. -1.  0.  0. 15.]\n",
            " [-4.  8.  2.  0. -1.  0. 30.]\n",
            " [ 1.  2.  0.  0.  0.  1. 30.]]\n"
          ],
          "name": "stdout"
        }
      ]
    },
    {
      "cell_type": "code",
      "metadata": {
        "colab": {
          "base_uri": "https://localhost:8080/"
        },
        "id": "4Aq1wuWFNdVO",
        "outputId": "b6b6cbbc-87f2-4912-9826-ed0506327e77"
      },
      "source": [
        "for bv in itertools.product([0,3],[1,4],[2,5]):\n",
        "  try:\n",
        "    bs = la.solve(A[:,bv], A[:,-1])\n",
        "    print(f'bv is {bv} and bs is {bs}')\n",
        "  except:\n",
        "    print(f'bv is {bv} and  it is singular')"
      ],
      "execution_count": null,
      "outputs": [
        {
          "output_type": "stream",
          "text": [
            "bv is (0, 1, 2) and bs is [12.  9.  3.]\n",
            "bv is (0, 1, 5) and bs is [15.   11.25 -7.5 ]\n",
            "bv is (0, 4, 2) and bs is [  30. -360. -105.]\n",
            "bv is (0, 4, 5) and bs is [  3.75 -45.    26.25]\n",
            "bv is (3, 1, 2) and bs is [-120.   15.  -45.]\n",
            "bv is (3, 1, 5) and bs is [-30.     3.75  22.5 ]\n",
            "bv is (3, 4, 2) and  it is singular\n",
            "bv is (3, 4, 5) and bs is [-15. -30.  30.]\n"
          ],
          "name": "stdout"
        }
      ]
    },
    {
      "cell_type": "code",
      "metadata": {
        "id": "bYfSohBlMYTh"
      },
      "source": [
        ""
      ],
      "execution_count": null,
      "outputs": []
    }
  ]
}