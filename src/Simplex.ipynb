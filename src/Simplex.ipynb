{
 "nbformat": 4,
 "nbformat_minor": 0,
 "metadata": {
  "colab": {
   "name": "Simplex.ipynb",
   "provenance": [],
   "authorship_tag": "ABX9TyNIL12Or6bYy+v+ZS588DYd",
   "include_colab_link": true
  },
  "kernelspec": {
   "name": "python3",
   "display_name": "Python 3"
  }
 },
 "cells": [
  {
   "cell_type": "markdown",
   "metadata": {
    "id": "00ZyRRxarrBi"
   },
   "source": [
    "# Simplex method\n",
    "\n",
    "We are going to illustrate simplex tableau method for linear programing using the following example - WG:\n",
    "$$\\max z = 3 x_1 + 5 x_2$$\n",
    "s.t.\n",
    "$$\\begin{array}{lll}\n",
    "x_1 & & \\le 4 \\\\\n",
    "& 2 x_2 &\\le 12 \\\\\n",
    "3x_1 & + 2x_2 & \\le 18\\\\\n",
    "x_1, & x_2 & \\ge 0\n",
    "\\end{array}\n",
    "$$"
   ]
  },
  {
   "cell_type": "code",
   "metadata": {
    "id": "HdIczcDireLv"
   },
   "source": [
    "# import package\n",
    "import numpy as np\n",
    "float_formatter = \"{:.2f}\".format\n",
    "np.set_printoptions(formatter={'float_kind':float_formatter})\n",
    "import pandas as pd\n",
    "import warnings\n",
    "#ignore by message\n",
    "warnings.filterwarnings(\"ignore\", message=\"divide by zero encountered in true_divide\")"
   ],
   "execution_count": 1,
   "outputs": []
  },
  {
   "cell_type": "markdown",
   "metadata": {
    "id": "qPGpUZT94CSW"
   },
   "source": [
    "## Pivoting\n",
    "\n",
    "Pivoting with $(i,j)$-entry means converting the matrix by multiple EROS so that the resulting matrix has all zeros in $j$-column, but one in $(i,j)$-entry. This is the key step in updating basic feasible solution."
   ]
  },
  {
   "cell_type": "code",
   "metadata": {
    "id": "QOOCy0MY4kHm"
   },
   "source": [
    "# pivoting with (i,j)\n",
    "def pivoting(A, i, j):\n",
    "    A[i] = A[i] / A[i, j]  # scale to get one in (i,j)\n",
    "    n_rows, _ = A.shape\n",
    "    for k in range(n_rows):\n",
    "        if k == i:\n",
    "            continue  # skip i-row\n",
    "        A[k] = A[k] - A[i] * A[k, j]  # replacement to get zero"
   ],
   "execution_count": 2,
   "outputs": []
  },
  {
   "cell_type": "markdown",
   "metadata": {
    "id": "gLN3ae6-ivJ4"
   },
   "source": [
    "# Initial tableau"
   ]
  },
  {
   "cell_type": "code",
   "metadata": {
    "colab": {
     "base_uri": "https://localhost:8080/",
     "height": 173
    },
    "id": "hM68Z6gnr17k",
    "outputId": "6ea7b006-9491-4c06-c8eb-a2ecf363d855"
   },
   "source": [
    "# input initial tableau\n",
    "M_mat = np.array([\n",
    "    [1, -3, -5, 0, 0, 0, 0],\n",
    "    [0, 1, 0, 1, 0, 0, 4],\n",
    "    [0, 0, 2, 0, 1, 0, 12],\n",
    "    [0, 3, 2, 0, 0, 1, 18]\n",
    "], dtype=float)\n",
    "\n",
    "print(f'=======================')\n",
    "print(f'initial tableau is')\n",
    "print(pd.DataFrame(M_mat))"
   ],
   "execution_count": 3,
   "outputs": [
    {
     "name": "stdout",
     "output_type": "stream",
     "text": [
      "=======================\n",
      "initial tableau is\n",
      "     0    1    2    3    4    5     6\n",
      "0  1.0 -3.0 -5.0  0.0  0.0  0.0   0.0\n",
      "1  0.0  1.0  0.0  1.0  0.0  0.0   4.0\n",
      "2  0.0  0.0  2.0  0.0  1.0  0.0  12.0\n",
      "3  0.0  3.0  2.0  0.0  0.0  1.0  18.0\n"
     ]
    }
   ]
  },
  {
   "cell_type": "code",
   "execution_count": 4,
   "outputs": [
    {
     "name": "stdout",
     "output_type": "stream",
     "text": [
      "number of constraints is 3\n",
      "number of decision variables is 5\n"
     ]
    }
   ],
   "source": [
    "row_n, col_n = M_mat.shape - np.array([1,2])\n",
    "print(f'number of constraints is {row_n}')\n",
    "print(f'number of decision variables is {col_n}')"
   ],
   "metadata": {
    "collapsed": false,
    "pycharm": {
     "name": "#%%\n"
    }
   }
  },
  {
   "cell_type": "code",
   "execution_count": 5,
   "outputs": [
    {
     "name": "stdout",
     "output_type": "stream",
     "text": [
      "new pivot column is 2\n"
     ]
    }
   ],
   "source": [
    "# Do optimal test\n",
    "# If not pass the tes, the pivot column is the one corresponding to the most negative coefficient in zero row\n",
    "optimal_test = min(M_mat[0, range(1, col_n + 1)])\n",
    "\n",
    "if optimal_test < 0:\n",
    "    pivot_c = np.argmin(M_mat[0, range(1, col_n + 1)]) + 1\n",
    "    print(f'new pivot column is {pivot_c}')\n",
    "else:\n",
    "    print(f'=================================')\n",
    "    print(f'pass the optimal test')\n",
    "    print(f'optimal value is {M_mat[0, -1]}')\n",
    "    print(f'The final tableau is \\n {pd.DataFrame(M_mat)}')\n",
    "    print(f'=================================')"
   ],
   "metadata": {
    "collapsed": false,
    "pycharm": {
     "name": "#%%\n"
    }
   }
  },
  {
   "cell_type": "code",
   "metadata": {
    "id": "aCPF39aOjIP-",
    "outputId": "a77884c2-79e5-4cc8-bc6a-e4e3bd11ea3d",
    "colab": {
     "base_uri": "https://localhost:8080/"
    }
   },
   "source": [
    "# pivot row is corresponding to the minimum positive ratio\n",
    "# minimum ratio test\n",
    "def min_ratio_test(ratio_list):\n",
    "    pivot_row = 0\n",
    "    min_ratio = np.inf\n",
    "    for i in range(len(ratio_list)):\n",
    "        if 0 < ratio_list[i] < min_ratio:\n",
    "            pivot_row = i + 1\n",
    "            min_ratio = ratio_list[i]\n",
    "    if min_ratio is np.inf:\n",
    "        return 0  # no leaving variable\n",
    "    else:\n",
    "        return pivot_row\n",
    "\n",
    "ratios = np.divide(M_mat[range(1, row_n + 1), -1], M_mat[range(1, row_n + 1), pivot_c])\n",
    "\n",
    "pivot_r = min_ratio_test(ratios)\n",
    "if pivot_r is 0:\n",
    "    print(f'no leaving variable, here is the ratio list {ratios}')\n",
    "else:\n",
    "    print(f'pivot row is {pivot_r}')"
   ],
   "execution_count": 6,
   "outputs": [
    {
     "name": "stdout",
     "output_type": "stream",
     "text": [
      "pivot row is 2\n"
     ]
    }
   ]
  },
  {
   "cell_type": "code",
   "execution_count": 7,
   "outputs": [
    {
     "name": "stdout",
     "output_type": "stream",
     "text": [
      "new tableau is:\n",
      "=======================\n",
      "     0    1    2    3    4    5     6\n",
      "0  1.0 -3.0  0.0  0.0  2.5  0.0  30.0\n",
      "1  0.0  1.0  0.0  1.0  0.0  0.0   4.0\n",
      "2  0.0  0.0  1.0  0.0  0.5  0.0   6.0\n",
      "3  0.0  3.0  0.0  0.0 -1.0  1.0   6.0\n"
     ]
    }
   ],
   "source": [
    "# Pivoting\n",
    "pivoting(M_mat, pivot_r, pivot_c)\n",
    "print(f'new tableau is:')\n",
    "print(f'=======================')\n",
    "print(pd.DataFrame(M_mat))"
   ],
   "metadata": {
    "collapsed": false,
    "pycharm": {
     "name": "#%%\n"
    }
   }
  },
  {
   "cell_type": "markdown",
   "metadata": {
    "id": "eV1GoV1y_WkM"
   },
   "source": [
    "Ex. Repeat above algorithm until pass the optimal test"
   ]
  },
  {
   "cell_type": "code",
   "execution_count": 7,
   "outputs": [],
   "source": [],
   "metadata": {
    "collapsed": false,
    "pycharm": {
     "name": "#%%\n"
    }
   }
  }
 ]
}