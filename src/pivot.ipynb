{
 "nbformat": 4,
 "nbformat_minor": 0,
 "metadata": {
  "colab": {
   "name": "pivotizing.ipynb",
   "provenance": [],
   "authorship_tag": "ABX9TyPX9DBwf+WtiuTzR/Fl44Cw",
   "include_colab_link": true
  },
  "kernelspec": {
   "name": "python3",
   "display_name": "Python 3"
  },
  "language_info": {
   "name": "python"
  }
 },
 "cells": [
  {
   "cell_type": "markdown",
   "source": [
    "# Pivoting"
   ],
   "metadata": {
    "collapsed": false,
    "pycharm": {
     "name": "#%% md\n"
    }
   }
  },
  {
   "cell_type": "code",
   "execution_count": 23,
   "outputs": [],
   "source": [
    "# import packages\n",
    "import numpy as np\n",
    "np.set_printoptions(suppress=True)"
   ],
   "metadata": {
    "collapsed": false,
    "pycharm": {
     "name": "#%%\n"
    }
   }
  },
  {
   "cell_type": "code",
   "metadata": {
    "id": "VbrYjHnkN5Vc"
   },
   "source": [
    "# pivoting with (i,j)\n",
    "def pivoting(A, i, j):\n",
    "    A[i] = A[i] / A[i, j]  # scale to get one in (i,j)\n",
    "    n_rows, _ = A.shape\n",
    "    for k in range(n_rows):\n",
    "        if k == i:\n",
    "            continue  # skip i-row\n",
    "        A[k] = A[k] - A[i] * A[k, j]  # replacement to get zero"
   ],
   "execution_count": 24,
   "outputs": []
  },
  {
   "cell_type": "markdown",
   "source": [
    "## Ex.\n",
    "\n",
    "Solve the following linear system by pivoting:\n",
    "$$\n",
    "x_1 + 2 x_2 - x_3  = 4$$\n",
    "$$- x_1 - x_2 + 2x_3  = 1$$\n",
    "$$x_1 \\quad \\quad \\quad + x_3  = 6$$\n"
   ],
   "metadata": {
    "collapsed": false
   }
  },
  {
   "cell_type": "code",
   "metadata": {
    "id": "NaCR_vuiObrJ"
   },
   "source": [
    "#matrix input\n",
    "M = np.array([[1,2,-1,4.],[-1.,-1, 2,1], [1.,0,1, 6]])\n",
    "print(f'{M}')"
   ],
   "execution_count": 30,
   "outputs": [
    {
     "name": "stdout",
     "output_type": "stream",
     "text": [
      "[[ 1.  2. -1.  4.]\n",
      " [-1. -1.  2.  1.]\n",
      " [ 1.  0.  1.  6.]]\n"
     ]
    }
   ]
  },
  {
   "cell_type": "code",
   "metadata": {
    "colab": {
     "base_uri": "https://localhost:8080/"
    },
    "id": "a6l40btsPKTv",
    "outputId": "c6d9965c-e1cd-4b1d-ee28-156ea40e19dd"
   },
   "source": [
    "for i in range(3):\n",
    "    pivoting(M, i, i)\n",
    "    print(f'----\\n {M}')"
   ],
   "execution_count": 31,
   "outputs": [
    {
     "name": "stdout",
     "output_type": "stream",
     "text": [
      "----\n",
      " [[ 1.  2. -1.  4.]\n",
      " [ 0.  1.  1.  5.]\n",
      " [ 0. -2.  2.  2.]]\n",
      "----\n",
      " [[ 1.  0. -3. -6.]\n",
      " [ 0.  1.  1.  5.]\n",
      " [ 0.  0.  4. 12.]]\n",
      "----\n",
      " [[1. 0. 0. 3.]\n",
      " [0. 1. 0. 2.]\n",
      " [0. 0. 1. 3.]]\n"
     ]
    }
   ]
  },
  {
   "cell_type": "markdown",
   "metadata": {
    "id": "xzrC6UaSPZWf",
    "pycharm": {
     "name": "#%% md\n"
    }
   },
   "source": []
  },
  {
   "cell_type": "markdown",
   "source": [
    "## Ex.\n",
    "Consider the following linear system:\n",
    "$$\n",
    "\\begin{array}{ll}\n",
    "x_1 + 3 x_3 & = 2\\\\\n",
    "x_2 - 3 x_4 & = 3\\\\\n",
    "-2x_2+3x_3+2x_4 & = 1\\\\\n",
    "3x_1 + 7x_4 & = -5\n",
    "\\end{array}\n",
    "$$\n",
    "- Write its augmented matrix\n",
    "- Pivot augmented matrix on $(i, i)$ entry sequentially for $i = 1,2,3,4$\n",
    "- What is the solution?"
   ],
   "metadata": {
    "collapsed": false,
    "pycharm": {
     "name": "#%% md\n"
    }
   }
  }
 ]
}