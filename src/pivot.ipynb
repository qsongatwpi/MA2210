{
 "nbformat": 4,
 "nbformat_minor": 0,
 "metadata": {
  "colab": {
   "name": "pivotizing.ipynb",
   "provenance": [],
   "authorship_tag": "ABX9TyPX9DBwf+WtiuTzR/Fl44Cw",
   "include_colab_link": true
  },
  "kernelspec": {
   "name": "python3",
   "display_name": "Python 3"
  },
  "language_info": {
   "name": "python"
  }
 },
 "cells": [
  {
   "cell_type": "code",
   "metadata": {
    "id": "LOCmByJLNy10",
    "pycharm": {
     "name": "#%%\n"
    }
   },
   "source": [
    "# import packages\n",
    "import numpy as np\n",
    "np.set_printoptions(suppress=True)"
   ],
   "execution_count": 1,
   "outputs": []
  },
  {
   "cell_type": "markdown",
   "source": [
    "Solve the following linear system by pivoting:\n",
    "$$\n",
    "x_1 + 2 x_2 - x_3  = 4$$\n",
    "$$- x_1 - x_2 + 2x_3  = 1$$\n",
    "$$x_1 \\quad \\quad \\quad + x_3  = 6$$\n"
   ],
   "metadata": {
    "collapsed": false,
    "pycharm": {
     "name": "#%% md\n"
    }
   }
  },
  {
   "cell_type": "code",
   "metadata": {
    "id": "VbrYjHnkN5Vc"
   },
   "source": [
    "def pivot(A, i, j):\n",
    "  A[i] = A[i]/A[i,j] #scale to get one in (i,j)\n",
    "  n_rows, _ = A.shape\n",
    "  for k in range(n_rows):\n",
    "    if k==i:\n",
    "      continue # skip i-row\n",
    "    A[k] = A[k] - A[i]*A[k,j] # replacement to get zero"
   ],
   "execution_count": 2,
   "outputs": []
  },
  {
   "cell_type": "code",
   "metadata": {
    "id": "NaCR_vuiObrJ"
   },
   "source": [
    "#matrix input\n",
    "M = np.array([[1,2,-1,4.],[-1.,-1, 2,1], [1.,0,1, 6]])\n",
    "M"
   ],
   "execution_count": 3,
   "outputs": [
    {
     "data": {
      "text/plain": "array([[ 1.,  2., -1.,  4.],\n       [-1., -1.,  2.,  1.],\n       [ 1.,  0.,  1.,  6.]])"
     },
     "execution_count": 3,
     "metadata": {},
     "output_type": "execute_result"
    }
   ]
  },
  {
   "cell_type": "code",
   "metadata": {
    "colab": {
     "base_uri": "https://localhost:8080/"
    },
    "id": "a6l40btsPKTv",
    "outputId": "c6d9965c-e1cd-4b1d-ee28-156ea40e19dd"
   },
   "source": [
    "pivot(M,1,1)\n",
    "M"
   ],
   "execution_count": 4,
   "outputs": [
    {
     "data": {
      "text/plain": "array([[-1.,  0.,  3.,  6.],\n       [ 1.,  1., -2., -1.],\n       [ 1.,  0.,  1.,  6.]])"
     },
     "execution_count": 4,
     "metadata": {},
     "output_type": "execute_result"
    }
   ]
  },
  {
   "cell_type": "code",
   "metadata": {
    "colab": {
     "base_uri": "https://localhost:8080/"
    },
    "id": "3MHmuuONPLs6",
    "outputId": "13012440-3d9d-4e5c-d0be-a2c1e9a672cb"
   },
   "source": [
    "pivot(M,0,0)\n",
    "M"
   ],
   "execution_count": 5,
   "outputs": [
    {
     "data": {
      "text/plain": "array([[ 1., -0., -3., -6.],\n       [ 0.,  1.,  1.,  5.],\n       [ 0.,  0.,  4., 12.]])"
     },
     "execution_count": 5,
     "metadata": {},
     "output_type": "execute_result"
    }
   ]
  },
  {
   "cell_type": "code",
   "metadata": {
    "colab": {
     "base_uri": "https://localhost:8080/"
    },
    "id": "dZiMks4lPVYP",
    "outputId": "d29edadd-c511-4ee9-a8a3-349d9a4d808b"
   },
   "source": [
    "pivot(M,2,2)\n",
    "M"
   ],
   "execution_count": 6,
   "outputs": [
    {
     "data": {
      "text/plain": "array([[1., 0., 0., 3.],\n       [0., 1., 0., 2.],\n       [0., 0., 1., 3.]])"
     },
     "execution_count": 6,
     "metadata": {},
     "output_type": "execute_result"
    }
   ]
  },
  {
   "cell_type": "code",
   "metadata": {
    "id": "xzrC6UaSPZWf"
   },
   "source": [
    ""
   ],
   "execution_count": 6,
   "outputs": []
  }
 ]
}